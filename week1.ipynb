{
 "cells": [
  {
   "cell_type": "code",
   "execution_count": 1,
   "metadata": {},
   "outputs": [],
   "source": [
    "import math"
   ]
  },
  {
   "cell_type": "code",
   "execution_count": 2,
   "metadata": {},
   "outputs": [
    {
     "data": {
      "text/plain": [
       "120"
      ]
     },
     "execution_count": 2,
     "metadata": {},
     "output_type": "execute_result"
    }
   ],
   "source": [
    "math.factorial(5)"
   ]
  },
  {
   "cell_type": "code",
   "execution_count": 3,
   "metadata": {},
   "outputs": [
    {
     "data": {
      "text/plain": [
       "120"
      ]
     },
     "execution_count": 3,
     "metadata": {},
     "output_type": "execute_result"
    }
   ],
   "source": [
    "5 * 4 * 3 * 2"
   ]
  },
  {
   "cell_type": "code",
   "execution_count": 4,
   "metadata": {},
   "outputs": [],
   "source": [
    "from math import factorial as F"
   ]
  },
  {
   "cell_type": "code",
   "execution_count": 5,
   "metadata": {},
   "outputs": [
    {
     "data": {
      "text/plain": [
       "24"
      ]
     },
     "execution_count": 5,
     "metadata": {},
     "output_type": "execute_result"
    }
   ],
   "source": [
    "F(4)"
   ]
  },
  {
   "cell_type": "code",
   "execution_count": 6,
   "metadata": {},
   "outputs": [
    {
     "data": {
      "text/plain": [
       "2"
      ]
     },
     "execution_count": 6,
     "metadata": {},
     "output_type": "execute_result"
    }
   ],
   "source": [
    "F(2)"
   ]
  },
  {
   "cell_type": "code",
   "execution_count": 7,
   "metadata": {},
   "outputs": [
    {
     "data": {
      "text/plain": [
       "972"
      ]
     },
     "execution_count": 7,
     "metadata": {},
     "output_type": "execute_result"
    }
   ],
   "source": [
    "4 * 3 * 9 * 9"
   ]
  },
  {
   "cell_type": "code",
   "execution_count": 8,
   "metadata": {},
   "outputs": [
    {
     "data": {
      "text/plain": [
       "768"
      ]
     },
     "execution_count": 8,
     "metadata": {},
     "output_type": "execute_result"
    }
   ],
   "source": [
    "4 * 3 * 8 * 8\n"
   ]
  },
  {
   "cell_type": "code",
   "execution_count": 9,
   "metadata": {},
   "outputs": [
    {
     "name": "stdout",
     "output_type": "stream",
     "text": [
      "56\n"
     ]
    }
   ],
   "source": [
    "n=8\n",
    "count = 0\n",
    "\n",
    "for i in range(n):\n",
    "    for j in range(n):\n",
    "        for k in range(n):\n",
    "            if i < j and j < k:\n",
    "                count += 1\n",
    "\n",
    "print(count)"
   ]
  },
  {
   "cell_type": "code",
   "execution_count": 10,
   "metadata": {},
   "outputs": [
    {
     "data": {
      "text/plain": [
       "64"
      ]
     },
     "execution_count": 10,
     "metadata": {},
     "output_type": "execute_result"
    }
   ],
   "source": [
    "8 * 8"
   ]
  },
  {
   "cell_type": "code",
   "execution_count": 11,
   "metadata": {},
   "outputs": [
    {
     "data": {
      "text/plain": [
       "56"
      ]
     },
     "execution_count": 11,
     "metadata": {},
     "output_type": "execute_result"
    }
   ],
   "source": [
    "8 * 7"
   ]
  },
  {
   "cell_type": "code",
   "execution_count": 12,
   "metadata": {},
   "outputs": [
    {
     "data": {
      "text/plain": [
       "8.0"
      ]
     },
     "execution_count": 12,
     "metadata": {},
     "output_type": "execute_result"
    }
   ],
   "source": [
    "F(8) / (F(7))"
   ]
  },
  {
   "cell_type": "code",
   "execution_count": 13,
   "metadata": {},
   "outputs": [
    {
     "data": {
      "text/plain": [
       "56.0"
      ]
     },
     "execution_count": 13,
     "metadata": {},
     "output_type": "execute_result"
    }
   ],
   "source": [
    "F(8) / (F(3)*F(5))"
   ]
  },
  {
   "cell_type": "code",
   "execution_count": 14,
   "metadata": {},
   "outputs": [
    {
     "name": "stdout",
     "output_type": "stream",
     "text": [
      "0 1 2\n",
      "0 1 3\n",
      "0 1 4\n",
      "0 1 5\n",
      "0 1 6\n",
      "0 1 7\n",
      "0 2 3\n",
      "0 2 4\n",
      "0 2 5\n",
      "0 2 6\n",
      "0 2 7\n",
      "0 3 4\n",
      "0 3 5\n",
      "0 3 6\n",
      "0 3 7\n",
      "0 4 5\n",
      "0 4 6\n",
      "0 4 7\n",
      "0 5 6\n",
      "0 5 7\n",
      "0 6 7\n",
      "1 2 3\n",
      "1 2 4\n",
      "1 2 5\n",
      "1 2 6\n",
      "1 2 7\n",
      "1 3 4\n",
      "1 3 5\n",
      "1 3 6\n",
      "1 3 7\n",
      "1 4 5\n",
      "1 4 6\n",
      "1 4 7\n",
      "1 5 6\n",
      "1 5 7\n",
      "1 6 7\n",
      "2 3 4\n",
      "2 3 5\n",
      "2 3 6\n",
      "2 3 7\n",
      "2 4 5\n",
      "2 4 6\n",
      "2 4 7\n",
      "2 5 6\n",
      "2 5 7\n",
      "2 6 7\n",
      "3 4 5\n",
      "3 4 6\n",
      "3 4 7\n",
      "3 5 6\n",
      "3 5 7\n",
      "3 6 7\n",
      "4 5 6\n",
      "4 5 7\n",
      "4 6 7\n",
      "5 6 7\n",
      "56\n"
     ]
    }
   ],
   "source": [
    "n=8\n",
    "count = 0\n",
    "\n",
    "for i in range(n):\n",
    "    for j in range(n):\n",
    "        for k in range(n):\n",
    "            if i < j and j < k:\n",
    "                count += 1\n",
    "                print(i, j, k)\n",
    "\n",
    "print(count)"
   ]
  },
  {
   "cell_type": "code",
   "execution_count": 15,
   "metadata": {},
   "outputs": [
    {
     "data": {
      "text/plain": [
       "479001600"
      ]
     },
     "execution_count": 15,
     "metadata": {},
     "output_type": "execute_result"
    }
   ],
   "source": [
    "F(12)"
   ]
  },
  {
   "cell_type": "code",
   "execution_count": 16,
   "metadata": {},
   "outputs": [
    {
     "data": {
      "text/plain": [
       "720"
      ]
     },
     "execution_count": 16,
     "metadata": {},
     "output_type": "execute_result"
    }
   ],
   "source": [
    "F(6)"
   ]
  },
  {
   "cell_type": "code",
   "execution_count": 17,
   "metadata": {},
   "outputs": [
    {
     "data": {
      "text/plain": [
       "924.0"
      ]
     },
     "execution_count": 17,
     "metadata": {},
     "output_type": "execute_result"
    }
   ],
   "source": [
    "F(12) / (F(6) * F(6))"
   ]
  },
  {
   "cell_type": "code",
   "execution_count": 18,
   "metadata": {},
   "outputs": [
    {
     "data": {
      "text/plain": [
       "462.0"
      ]
     },
     "execution_count": 18,
     "metadata": {},
     "output_type": "execute_result"
    }
   ],
   "source": [
    "924/2"
   ]
  },
  {
   "cell_type": "code",
   "execution_count": 19,
   "metadata": {},
   "outputs": [],
   "source": [
    "C = dict()"
   ]
  },
  {
   "cell_type": "code",
   "execution_count": 20,
   "metadata": {},
   "outputs": [],
   "source": [
    "for n in range(8):\n",
    "    C[n, 0] = 1\n",
    "    C[n, n] = 1\n",
    "    \n",
    "    for k in range(1, n):\n",
    "        C[n, k] = C[n - 1, k - 1] + C[n - 1 , k]"
   ]
  },
  {
   "cell_type": "code",
   "execution_count": 21,
   "metadata": {},
   "outputs": [
    {
     "name": "stdout",
     "output_type": "stream",
     "text": [
      "{(0, 0): 1, (1, 0): 1, (1, 1): 1, (2, 0): 1, (2, 2): 1, (2, 1): 2, (3, 0): 1, (3, 3): 1, (3, 1): 3, (3, 2): 3, (4, 0): 1, (4, 4): 1, (4, 1): 4, (4, 2): 6, (4, 3): 4, (5, 0): 1, (5, 5): 1, (5, 1): 5, (5, 2): 10, (5, 3): 10, (5, 4): 5, (6, 0): 1, (6, 6): 1, (6, 1): 6, (6, 2): 15, (6, 3): 20, (6, 4): 15, (6, 5): 6, (7, 0): 1, (7, 7): 1, (7, 1): 7, (7, 2): 21, (7, 3): 35, (7, 4): 35, (7, 5): 21, (7, 6): 7}\n"
     ]
    }
   ],
   "source": [
    "print(C)"
   ]
  },
  {
   "cell_type": "code",
   "execution_count": 22,
   "metadata": {},
   "outputs": [
    {
     "name": "stdout",
     "output_type": "stream",
     "text": [
      "21\n"
     ]
    }
   ],
   "source": [
    "print(C[7, 2])"
   ]
  },
  {
   "cell_type": "code",
   "execution_count": 23,
   "metadata": {},
   "outputs": [
    {
     "data": {
      "text/plain": [
       "35.0"
      ]
     },
     "execution_count": 23,
     "metadata": {},
     "output_type": "execute_result"
    }
   ],
   "source": [
    "F(7) / (F(4) * F(3))"
   ]
  },
  {
   "cell_type": "code",
   "execution_count": 24,
   "metadata": {},
   "outputs": [
    {
     "data": {
      "text/plain": [
       "21.0"
      ]
     },
     "execution_count": 24,
     "metadata": {},
     "output_type": "execute_result"
    }
   ],
   "source": [
    "F(7) / (F(2) * F(5))"
   ]
  },
  {
   "cell_type": "code",
   "execution_count": 25,
   "metadata": {},
   "outputs": [],
   "source": [
    "def nck(n , k):\n",
    "    return F(n) / (F(k) * F(n-k))"
   ]
  },
  {
   "cell_type": "code",
   "execution_count": 26,
   "metadata": {},
   "outputs": [
    {
     "data": {
      "text/plain": [
       "70.0"
      ]
     },
     "execution_count": 26,
     "metadata": {},
     "output_type": "execute_result"
    }
   ],
   "source": [
    "nck(8, 4)"
   ]
  },
  {
   "cell_type": "code",
   "execution_count": 27,
   "metadata": {},
   "outputs": [
    {
     "data": {
      "text/plain": [
       "8.0"
      ]
     },
     "execution_count": 27,
     "metadata": {},
     "output_type": "execute_result"
    }
   ],
   "source": [
    "nck(8, 7)"
   ]
  },
  {
   "cell_type": "code",
   "execution_count": 28,
   "metadata": {},
   "outputs": [],
   "source": [
    "def nck2(n , k):\n",
    "    return (n/k) * (nck(n-1, k-1))"
   ]
  },
  {
   "cell_type": "code",
   "execution_count": 29,
   "metadata": {},
   "outputs": [
    {
     "data": {
      "text/plain": [
       "8.0"
      ]
     },
     "execution_count": 29,
     "metadata": {},
     "output_type": "execute_result"
    }
   ],
   "source": [
    "nck2(8, 7)"
   ]
  },
  {
   "cell_type": "code",
   "execution_count": 30,
   "metadata": {},
   "outputs": [],
   "source": [
    "def nck3(n, k):\n",
    "    return nck(n, n-k)"
   ]
  },
  {
   "cell_type": "code",
   "execution_count": 31,
   "metadata": {},
   "outputs": [
    {
     "data": {
      "text/plain": [
       "8.0"
      ]
     },
     "execution_count": 31,
     "metadata": {},
     "output_type": "execute_result"
    }
   ],
   "source": [
    "nck3(8, 7)"
   ]
  },
  {
   "cell_type": "code",
   "execution_count": 32,
   "metadata": {},
   "outputs": [
    {
     "data": {
      "text/plain": [
       "8.0"
      ]
     },
     "execution_count": 32,
     "metadata": {},
     "output_type": "execute_result"
    }
   ],
   "source": [
    "nck(8, 7)"
   ]
  },
  {
   "cell_type": "code",
   "execution_count": 33,
   "metadata": {},
   "outputs": [
    {
     "data": {
      "text/plain": [
       "8.0"
      ]
     },
     "execution_count": 33,
     "metadata": {},
     "output_type": "execute_result"
    }
   ],
   "source": [
    "nck(8, 1)"
   ]
  },
  {
   "cell_type": "code",
   "execution_count": 34,
   "metadata": {},
   "outputs": [
    {
     "data": {
      "text/plain": [
       "35.0"
      ]
     },
     "execution_count": 34,
     "metadata": {},
     "output_type": "execute_result"
    }
   ],
   "source": [
    "nck(7, 4)"
   ]
  },
  {
   "cell_type": "code",
   "execution_count": 35,
   "metadata": {},
   "outputs": [
    {
     "data": {
      "text/plain": [
       "35.0"
      ]
     },
     "execution_count": 35,
     "metadata": {},
     "output_type": "execute_result"
    }
   ],
   "source": [
    "nck(7, 3)"
   ]
  },
  {
   "cell_type": "code",
   "execution_count": 36,
   "metadata": {},
   "outputs": [
    {
     "data": {
      "text/plain": [
       "True"
      ]
     },
     "execution_count": 36,
     "metadata": {},
     "output_type": "execute_result"
    }
   ],
   "source": [
    "nck(121, 76) > nck(120, 75)"
   ]
  },
  {
   "cell_type": "code",
   "execution_count": 37,
   "metadata": {},
   "outputs": [],
   "source": [
    "def nck4(n, k):\n",
    "    return nck(n-1, k-1) + nck(n-1, k)"
   ]
  },
  {
   "cell_type": "code",
   "execution_count": 38,
   "metadata": {},
   "outputs": [
    {
     "data": {
      "text/plain": [
       "35.0"
      ]
     },
     "execution_count": 38,
     "metadata": {},
     "output_type": "execute_result"
    }
   ],
   "source": [
    "nck4(7, 4)"
   ]
  },
  {
   "cell_type": "code",
   "execution_count": 39,
   "metadata": {},
   "outputs": [],
   "source": [
    "s = 0\n",
    "n = 5\n",
    "for i in range(0, n + 1):\n",
    "    s += nck(n, i)\n",
    "    "
   ]
  },
  {
   "cell_type": "code",
   "execution_count": 40,
   "metadata": {},
   "outputs": [
    {
     "data": {
      "text/plain": [
       "32"
      ]
     },
     "execution_count": 40,
     "metadata": {},
     "output_type": "execute_result"
    }
   ],
   "source": [
    "2 ** n"
   ]
  },
  {
   "cell_type": "code",
   "execution_count": 41,
   "metadata": {},
   "outputs": [
    {
     "data": {
      "text/plain": [
       "32.0"
      ]
     },
     "execution_count": 41,
     "metadata": {},
     "output_type": "execute_result"
    }
   ],
   "source": [
    "s"
   ]
  },
  {
   "cell_type": "code",
   "execution_count": 42,
   "metadata": {},
   "outputs": [
    {
     "name": "stdout",
     "output_type": "stream",
     "text": [
      "0 1 1\n",
      "1 2 3\n",
      "2 4 7\n",
      "3 8 15\n",
      "4 16 31\n",
      "5 32 63\n",
      "63\n"
     ]
    }
   ],
   "source": [
    "m = 0\n",
    "for i in range(0, 6):\n",
    "    m += 2 ** i\n",
    "    print(i, 2 ** i , m)\n",
    "print(m)"
   ]
  },
  {
   "cell_type": "code",
   "execution_count": 43,
   "metadata": {},
   "outputs": [
    {
     "data": {
      "text/plain": [
       "126"
      ]
     },
     "execution_count": 43,
     "metadata": {},
     "output_type": "execute_result"
    }
   ],
   "source": [
    "62 + 64"
   ]
  },
  {
   "cell_type": "code",
   "execution_count": 44,
   "metadata": {},
   "outputs": [
    {
     "data": {
      "text/plain": [
       "16.0"
      ]
     },
     "execution_count": 44,
     "metadata": {},
     "output_type": "execute_result"
    }
   ],
   "source": [
    "nck(5, 3) + nck(5, 4) + nck(5, 5)"
   ]
  },
  {
   "cell_type": "code",
   "execution_count": 45,
   "metadata": {},
   "outputs": [
    {
     "data": {
      "text/plain": [
       "2598960.0"
      ]
     },
     "execution_count": 45,
     "metadata": {},
     "output_type": "execute_result"
    }
   ],
   "source": [
    "nck(52, 5)"
   ]
  },
  {
   "cell_type": "code",
   "execution_count": 46,
   "metadata": {},
   "outputs": [
    {
     "data": {
      "text/plain": [
       "8.0"
      ]
     },
     "execution_count": 46,
     "metadata": {},
     "output_type": "execute_result"
    }
   ],
   "source": [
    "nck(8, 1)"
   ]
  },
  {
   "cell_type": "code",
   "execution_count": 47,
   "metadata": {},
   "outputs": [
    {
     "data": {
      "text/plain": [
       "78.0"
      ]
     },
     "execution_count": 47,
     "metadata": {},
     "output_type": "execute_result"
    }
   ],
   "source": [
    "nck(13, 2)"
   ]
  },
  {
   "cell_type": "code",
   "execution_count": 48,
   "metadata": {},
   "outputs": [
    {
     "data": {
      "text/plain": [
       "286.0"
      ]
     },
     "execution_count": 48,
     "metadata": {},
     "output_type": "execute_result"
    }
   ],
   "source": [
    "nck(13, 3)"
   ]
  },
  {
   "cell_type": "code",
   "execution_count": 49,
   "metadata": {},
   "outputs": [
    {
     "data": {
      "text/plain": [
       "65780.0"
      ]
     },
     "execution_count": 49,
     "metadata": {},
     "output_type": "execute_result"
    }
   ],
   "source": [
    "nck(26, 5)"
   ]
  },
  {
   "cell_type": "code",
   "execution_count": 50,
   "metadata": {},
   "outputs": [
    {
     "data": {
      "text/plain": [
       "22308"
      ]
     },
     "execution_count": 50,
     "metadata": {},
     "output_type": "execute_result"
    }
   ],
   "source": [
    "78 * 286\n"
   ]
  },
  {
   "cell_type": "code",
   "execution_count": 51,
   "metadata": {},
   "outputs": [
    {
     "data": {
      "text/plain": [
       "11154"
      ]
     },
     "execution_count": 51,
     "metadata": {},
     "output_type": "execute_result"
    }
   ],
   "source": [
    "78 * 286 // 2"
   ]
  },
  {
   "cell_type": "code",
   "execution_count": 52,
   "metadata": {},
   "outputs": [
    {
     "data": {
      "text/plain": [
       "10000"
      ]
     },
     "execution_count": 52,
     "metadata": {},
     "output_type": "execute_result"
    }
   ],
   "source": [
    "10 ** 4"
   ]
  },
  {
   "cell_type": "code",
   "execution_count": 53,
   "metadata": {},
   "outputs": [
    {
     "data": {
      "text/plain": [
       "6561"
      ]
     },
     "execution_count": 53,
     "metadata": {},
     "output_type": "execute_result"
    }
   ],
   "source": [
    "9 ** 4"
   ]
  },
  {
   "cell_type": "code",
   "execution_count": 54,
   "metadata": {},
   "outputs": [
    {
     "data": {
      "text/plain": [
       "3439"
      ]
     },
     "execution_count": 54,
     "metadata": {},
     "output_type": "execute_result"
    }
   ],
   "source": [
    "10 ** 4 - 9 ** 4"
   ]
  },
  {
   "cell_type": "code",
   "execution_count": 55,
   "metadata": {},
   "outputs": [
    {
     "data": {
      "text/plain": [
       "9295.0"
      ]
     },
     "execution_count": 55,
     "metadata": {},
     "output_type": "execute_result"
    }
   ],
   "source": [
    "nck(13, 4) * nck(13, 1)"
   ]
  },
  {
   "cell_type": "code",
   "execution_count": 56,
   "metadata": {},
   "outputs": [
    {
     "data": {
      "text/plain": [
       "70.0"
      ]
     },
     "execution_count": 56,
     "metadata": {},
     "output_type": "execute_result"
    }
   ],
   "source": [
    "nck(8, 4)"
   ]
  },
  {
   "cell_type": "code",
   "execution_count": 57,
   "metadata": {},
   "outputs": [
    {
     "name": "stdout",
     "output_type": "stream",
     "text": [
      "256\n"
     ]
    }
   ],
   "source": [
    "# Python 3 implementation of the approach \n",
    "mod = 1000000007\n",
    "\n",
    "# Iterative Function to calculate (x^y)%p in O(log y) \n",
    "def power(x, y, p): \n",
    "\tres = 1 # Initialize result \n",
    "\n",
    "\tx = x % p # Update x if it is more than or \n",
    "\t\t\t# equal to p \n",
    "\n",
    "\twhile (y > 0): \n",
    "\t\t\n",
    "\t\t# If y is odd, multiply x with result \n",
    "\t\tif (y & 1): \n",
    "\t\t\tres = (res * x) % p \n",
    "\n",
    "\t\t# y must be even now \n",
    "\t\ty = y >> 1 # y = y/2 \n",
    "\t\tx = (x * x) % p \n",
    "\n",
    "\treturn res \n",
    "\n",
    "# Function to count the number of binary \n",
    "# strings of length N having only 0's and 1's \n",
    "def findCount(N): \n",
    "\tcount = power(2, N, mod) \n",
    "\treturn count \n",
    "\n",
    "# Driver code \n",
    "if __name__ == '__main__': \n",
    "\tN = 8\n",
    "\tprint(findCount(N)) \n",
    "\n",
    "# This code is contributed by \n",
    "# Surendra_Gangwar \n"
   ]
  },
  {
   "cell_type": "code",
   "execution_count": 58,
   "metadata": {},
   "outputs": [
    {
     "name": "stdout",
     "output_type": "stream",
     "text": [
      "0 0 0 0 1 1 1 1\n",
      "0 0 0 1 0 1 1 1\n",
      "0 0 0 1 1 0 1 1\n",
      "0 0 0 1 1 1 0 1\n",
      "0 0 0 1 1 1 1 0\n",
      "0 0 1 0 0 1 1 1\n",
      "0 0 1 0 1 0 1 1\n",
      "0 0 1 0 1 1 0 1\n",
      "0 0 1 0 1 1 1 0\n",
      "0 0 1 1 0 0 1 1\n",
      "0 0 1 1 0 1 0 1\n",
      "0 0 1 1 0 1 1 0\n",
      "0 0 1 1 1 0 0 1\n",
      "0 0 1 1 1 0 1 0\n",
      "0 0 1 1 1 1 0 0\n",
      "0 1 0 0 0 1 1 1\n",
      "0 1 0 0 1 0 1 1\n",
      "0 1 0 0 1 1 0 1\n",
      "0 1 0 0 1 1 1 0\n",
      "0 1 0 1 0 0 1 1\n",
      "0 1 0 1 0 1 0 1\n",
      "0 1 0 1 0 1 1 0\n",
      "0 1 0 1 1 0 0 1\n",
      "0 1 0 1 1 0 1 0\n",
      "0 1 0 1 1 1 0 0\n",
      "0 1 1 0 0 0 1 1\n",
      "0 1 1 0 0 1 0 1\n",
      "0 1 1 0 0 1 1 0\n",
      "0 1 1 0 1 0 0 1\n",
      "0 1 1 0 1 0 1 0\n",
      "0 1 1 0 1 1 0 0\n",
      "0 1 1 1 0 0 0 1\n",
      "0 1 1 1 0 0 1 0\n",
      "0 1 1 1 0 1 0 0\n",
      "0 1 1 1 1 0 0 0\n",
      "1 0 0 0 0 1 1 1\n",
      "1 0 0 0 1 0 1 1\n",
      "1 0 0 0 1 1 0 1\n",
      "1 0 0 0 1 1 1 0\n",
      "1 0 0 1 0 0 1 1\n",
      "1 0 0 1 0 1 0 1\n",
      "1 0 0 1 0 1 1 0\n",
      "1 0 0 1 1 0 0 1\n",
      "1 0 0 1 1 0 1 0\n",
      "1 0 0 1 1 1 0 0\n",
      "1 0 1 0 0 0 1 1\n",
      "1 0 1 0 0 1 0 1\n",
      "1 0 1 0 0 1 1 0\n",
      "1 0 1 0 1 0 0 1\n",
      "1 0 1 0 1 0 1 0\n",
      "1 0 1 0 1 1 0 0\n",
      "1 0 1 1 0 0 0 1\n",
      "1 0 1 1 0 0 1 0\n",
      "1 0 1 1 0 1 0 0\n",
      "1 0 1 1 1 0 0 0\n",
      "1 1 0 0 0 0 1 1\n",
      "1 1 0 0 0 1 0 1\n",
      "1 1 0 0 0 1 1 0\n",
      "1 1 0 0 1 0 0 1\n",
      "1 1 0 0 1 0 1 0\n",
      "1 1 0 0 1 1 0 0\n",
      "1 1 0 1 0 0 0 1\n",
      "1 1 0 1 0 0 1 0\n",
      "1 1 0 1 0 1 0 0\n",
      "1 1 0 1 1 0 0 0\n",
      "1 1 1 0 0 0 0 1\n",
      "1 1 1 0 0 0 1 0\n",
      "1 1 1 0 0 1 0 0\n",
      "1 1 1 0 1 0 0 0\n",
      "1 1 1 1 0 0 0 0\n",
      "70\n"
     ]
    }
   ],
   "source": [
    "count = 0\n",
    "for a in range(2):\n",
    "    for b in range(2):\n",
    "        for c in range(2):\n",
    "            for d in range(2):\n",
    "                for e in range(2):\n",
    "                    for f in range(2):\n",
    "                        for g in range(2):\n",
    "                            for h in range(2):\n",
    "                                if a + b + c + d + e + f + g + h == 4:\n",
    "                                    print(a, b, c, d, e, f, g, h)\n",
    "                                    count += 1\n",
    "print(count)"
   ]
  },
  {
   "cell_type": "code",
   "execution_count": 59,
   "metadata": {},
   "outputs": [
    {
     "data": {
      "text/plain": [
       "6.0"
      ]
     },
     "execution_count": 59,
     "metadata": {},
     "output_type": "execute_result"
    }
   ],
   "source": [
    "nck(4, 2)"
   ]
  },
  {
   "cell_type": "code",
   "execution_count": 60,
   "metadata": {},
   "outputs": [
    {
     "name": "stdout",
     "output_type": "stream",
     "text": [
      "aa\n",
      "ab\n",
      "ac\n",
      "ba\n",
      "bb\n",
      "bc\n",
      "ca\n",
      "cb\n",
      "cc\n"
     ]
    }
   ],
   "source": [
    "from itertools import product\n",
    "for c in product(\"abc\", repeat=2):\n",
    "  print(\"\".join(c))"
   ]
  },
  {
   "cell_type": "code",
   "execution_count": 61,
   "metadata": {},
   "outputs": [],
   "source": [
    "prod = product(\"abc\", repeat=3)"
   ]
  },
  {
   "cell_type": "code",
   "execution_count": 62,
   "metadata": {},
   "outputs": [
    {
     "data": {
      "text/plain": [
       "('a', 'a', 'a')"
      ]
     },
     "execution_count": 62,
     "metadata": {},
     "output_type": "execute_result"
    }
   ],
   "source": [
    "next(prod)"
   ]
  },
  {
   "cell_type": "code",
   "execution_count": 63,
   "metadata": {},
   "outputs": [
    {
     "data": {
      "text/plain": [
       "('a', 'a', 'b')"
      ]
     },
     "execution_count": 63,
     "metadata": {},
     "output_type": "execute_result"
    }
   ],
   "source": [
    "next(prod)"
   ]
  },
  {
   "cell_type": "code",
   "execution_count": 64,
   "metadata": {},
   "outputs": [
    {
     "data": {
      "text/plain": [
       "('a', 'a', 'c')"
      ]
     },
     "execution_count": 64,
     "metadata": {},
     "output_type": "execute_result"
    }
   ],
   "source": [
    "next(prod)"
   ]
  },
  {
   "cell_type": "code",
   "execution_count": 65,
   "metadata": {},
   "outputs": [
    {
     "data": {
      "text/plain": [
       "('a', 'b', 'a')"
      ]
     },
     "execution_count": 65,
     "metadata": {},
     "output_type": "execute_result"
    }
   ],
   "source": [
    "next(prod)"
   ]
  },
  {
   "cell_type": "code",
   "execution_count": 66,
   "metadata": {},
   "outputs": [
    {
     "name": "stdout",
     "output_type": "stream",
     "text": [
      "01\n",
      "02\n",
      "03\n",
      "04\n",
      "05\n",
      "06\n",
      "07\n",
      "08\n",
      "09\n",
      "10\n",
      "12\n",
      "13\n",
      "14\n",
      "15\n",
      "16\n",
      "17\n",
      "18\n",
      "19\n",
      "20\n",
      "21\n",
      "23\n",
      "24\n",
      "25\n",
      "26\n",
      "27\n",
      "28\n",
      "29\n",
      "30\n",
      "31\n",
      "32\n",
      "34\n",
      "35\n",
      "36\n",
      "37\n",
      "38\n",
      "39\n",
      "40\n",
      "41\n",
      "42\n",
      "43\n",
      "45\n",
      "46\n",
      "47\n",
      "48\n",
      "49\n",
      "50\n",
      "51\n",
      "52\n",
      "53\n",
      "54\n",
      "56\n",
      "57\n",
      "58\n",
      "59\n",
      "60\n",
      "61\n",
      "62\n",
      "63\n",
      "64\n",
      "65\n",
      "67\n",
      "68\n",
      "69\n",
      "70\n",
      "71\n",
      "72\n",
      "73\n",
      "74\n",
      "75\n",
      "76\n",
      "78\n",
      "79\n",
      "80\n",
      "81\n",
      "82\n",
      "83\n",
      "84\n",
      "85\n",
      "86\n",
      "87\n",
      "89\n",
      "90\n",
      "91\n",
      "92\n",
      "93\n",
      "94\n",
      "95\n",
      "96\n",
      "97\n",
      "98\n"
     ]
    }
   ],
   "source": [
    "from itertools import permutations\n",
    "for c in permutations(\"0123456789\", 2):\n",
    "  print(\"\".join(c))"
   ]
  },
  {
   "cell_type": "code",
   "execution_count": 67,
   "metadata": {},
   "outputs": [
    {
     "name": "stdout",
     "output_type": "stream",
     "text": [
      "1234\n",
      "1235\n",
      "1236\n",
      "1237\n",
      "1238\n",
      "1239\n",
      "1245\n",
      "1246\n",
      "1247\n",
      "1248\n",
      "1249\n",
      "1256\n",
      "1257\n",
      "1258\n",
      "1259\n",
      "1267\n",
      "1268\n",
      "1269\n",
      "1278\n",
      "1279\n",
      "1289\n",
      "1345\n",
      "1346\n",
      "1347\n",
      "1348\n",
      "1349\n",
      "1356\n",
      "1357\n",
      "1358\n",
      "1359\n",
      "1367\n",
      "1368\n",
      "1369\n",
      "1378\n",
      "1379\n",
      "1389\n",
      "1456\n",
      "1457\n",
      "1458\n",
      "1459\n",
      "1467\n",
      "1468\n",
      "1469\n",
      "1478\n",
      "1479\n",
      "1489\n",
      "1567\n",
      "1568\n",
      "1569\n",
      "1578\n",
      "1579\n",
      "1589\n",
      "1678\n",
      "1679\n",
      "1689\n",
      "1789\n",
      "2345\n",
      "2346\n",
      "2347\n",
      "2348\n",
      "2349\n",
      "2356\n",
      "2357\n",
      "2358\n",
      "2359\n",
      "2367\n",
      "2368\n",
      "2369\n",
      "2378\n",
      "2379\n",
      "2389\n",
      "2456\n",
      "2457\n",
      "2458\n",
      "2459\n",
      "2467\n",
      "2468\n",
      "2469\n",
      "2478\n",
      "2479\n",
      "2489\n",
      "2567\n",
      "2568\n",
      "2569\n",
      "2578\n",
      "2579\n",
      "2589\n",
      "2678\n",
      "2679\n",
      "2689\n",
      "2789\n",
      "3456\n",
      "3457\n",
      "3458\n",
      "3459\n",
      "3467\n",
      "3468\n",
      "3469\n",
      "3478\n",
      "3479\n",
      "3489\n",
      "3567\n",
      "3568\n",
      "3569\n",
      "3578\n",
      "3579\n",
      "3589\n",
      "3678\n",
      "3679\n",
      "3689\n",
      "3789\n",
      "4567\n",
      "4568\n",
      "4569\n",
      "4578\n",
      "4579\n",
      "4589\n",
      "4678\n",
      "4679\n",
      "4689\n",
      "4789\n",
      "5678\n",
      "5679\n",
      "5689\n",
      "5789\n",
      "6789\n",
      "126\n"
     ]
    }
   ],
   "source": [
    "from itertools import combinations\n",
    "i=0\n",
    "for c in combinations(\"123456789\", 4):\n",
    "    print(\"\".join(c))\n",
    "    i+=1\n",
    "print(i)"
   ]
  },
  {
   "cell_type": "code",
   "execution_count": 68,
   "metadata": {},
   "outputs": [
    {
     "name": "stdout",
     "output_type": "stream",
     "text": [
      "1- 0000\n",
      "2- 0001\n",
      "3- 0002\n",
      "4- 0003\n",
      "5- 0004\n",
      "6- 0005\n",
      "7- 0006\n",
      "8- 0007\n",
      "9- 0008\n",
      "10- 0009\n",
      "11- 0011\n",
      "12- 0012\n",
      "13- 0013\n",
      "14- 0014\n",
      "15- 0015\n",
      "16- 0016\n",
      "17- 0017\n",
      "18- 0018\n",
      "19- 0019\n",
      "20- 0022\n",
      "21- 0023\n",
      "22- 0024\n",
      "23- 0025\n",
      "24- 0026\n",
      "25- 0027\n",
      "26- 0028\n",
      "27- 0029\n",
      "28- 0033\n",
      "29- 0034\n",
      "30- 0035\n",
      "31- 0036\n",
      "32- 0037\n",
      "33- 0038\n",
      "34- 0039\n",
      "35- 0044\n",
      "36- 0045\n",
      "37- 0046\n",
      "38- 0047\n",
      "39- 0048\n",
      "40- 0049\n",
      "41- 0055\n",
      "42- 0056\n",
      "43- 0057\n",
      "44- 0058\n",
      "45- 0059\n",
      "46- 0066\n",
      "47- 0067\n",
      "48- 0068\n",
      "49- 0069\n",
      "50- 0077\n",
      "51- 0078\n",
      "52- 0079\n",
      "53- 0088\n",
      "54- 0089\n",
      "55- 0099\n",
      "56- 0111\n",
      "57- 0112\n",
      "58- 0113\n",
      "59- 0114\n",
      "60- 0115\n",
      "61- 0116\n",
      "62- 0117\n",
      "63- 0118\n",
      "64- 0119\n",
      "65- 0122\n",
      "66- 0123\n",
      "67- 0124\n",
      "68- 0125\n",
      "69- 0126\n",
      "70- 0127\n",
      "71- 0128\n",
      "72- 0129\n",
      "73- 0133\n",
      "74- 0134\n",
      "75- 0135\n",
      "76- 0136\n",
      "77- 0137\n",
      "78- 0138\n",
      "79- 0139\n",
      "80- 0144\n",
      "81- 0145\n",
      "82- 0146\n",
      "83- 0147\n",
      "84- 0148\n",
      "85- 0149\n",
      "86- 0155\n",
      "87- 0156\n",
      "88- 0157\n",
      "89- 0158\n",
      "90- 0159\n",
      "91- 0166\n",
      "92- 0167\n",
      "93- 0168\n",
      "94- 0169\n",
      "95- 0177\n",
      "96- 0178\n",
      "97- 0179\n",
      "98- 0188\n",
      "99- 0189\n",
      "100- 0199\n",
      "101- 0222\n",
      "102- 0223\n",
      "103- 0224\n",
      "104- 0225\n",
      "105- 0226\n",
      "106- 0227\n",
      "107- 0228\n",
      "108- 0229\n",
      "109- 0233\n",
      "110- 0234\n",
      "111- 0235\n",
      "112- 0236\n",
      "113- 0237\n",
      "114- 0238\n",
      "115- 0239\n",
      "116- 0244\n",
      "117- 0245\n",
      "118- 0246\n",
      "119- 0247\n",
      "120- 0248\n",
      "121- 0249\n",
      "122- 0255\n",
      "123- 0256\n",
      "124- 0257\n",
      "125- 0258\n",
      "126- 0259\n",
      "127- 0266\n",
      "128- 0267\n",
      "129- 0268\n",
      "130- 0269\n",
      "131- 0277\n",
      "132- 0278\n",
      "133- 0279\n",
      "134- 0288\n",
      "135- 0289\n",
      "136- 0299\n",
      "137- 0333\n",
      "138- 0334\n",
      "139- 0335\n",
      "140- 0336\n",
      "141- 0337\n",
      "142- 0338\n",
      "143- 0339\n",
      "144- 0344\n",
      "145- 0345\n",
      "146- 0346\n",
      "147- 0347\n",
      "148- 0348\n",
      "149- 0349\n",
      "150- 0355\n",
      "151- 0356\n",
      "152- 0357\n",
      "153- 0358\n",
      "154- 0359\n",
      "155- 0366\n",
      "156- 0367\n",
      "157- 0368\n",
      "158- 0369\n",
      "159- 0377\n",
      "160- 0378\n",
      "161- 0379\n",
      "162- 0388\n",
      "163- 0389\n",
      "164- 0399\n",
      "165- 0444\n",
      "166- 0445\n",
      "167- 0446\n",
      "168- 0447\n",
      "169- 0448\n",
      "170- 0449\n",
      "171- 0455\n",
      "172- 0456\n",
      "173- 0457\n",
      "174- 0458\n",
      "175- 0459\n",
      "176- 0466\n",
      "177- 0467\n",
      "178- 0468\n",
      "179- 0469\n",
      "180- 0477\n",
      "181- 0478\n",
      "182- 0479\n",
      "183- 0488\n",
      "184- 0489\n",
      "185- 0499\n",
      "186- 0555\n",
      "187- 0556\n",
      "188- 0557\n",
      "189- 0558\n",
      "190- 0559\n",
      "191- 0566\n",
      "192- 0567\n",
      "193- 0568\n",
      "194- 0569\n",
      "195- 0577\n",
      "196- 0578\n",
      "197- 0579\n",
      "198- 0588\n",
      "199- 0589\n",
      "200- 0599\n",
      "201- 0666\n",
      "202- 0667\n",
      "203- 0668\n",
      "204- 0669\n",
      "205- 0677\n",
      "206- 0678\n",
      "207- 0679\n",
      "208- 0688\n",
      "209- 0689\n",
      "210- 0699\n",
      "211- 0777\n",
      "212- 0778\n",
      "213- 0779\n",
      "214- 0788\n",
      "215- 0789\n",
      "216- 0799\n",
      "217- 0888\n",
      "218- 0889\n",
      "219- 0899\n",
      "220- 0999\n",
      "221- 1111\n",
      "222- 1112\n",
      "223- 1113\n",
      "224- 1114\n",
      "225- 1115\n",
      "226- 1116\n",
      "227- 1117\n",
      "228- 1118\n",
      "229- 1119\n",
      "230- 1122\n",
      "231- 1123\n",
      "232- 1124\n",
      "233- 1125\n",
      "234- 1126\n",
      "235- 1127\n",
      "236- 1128\n",
      "237- 1129\n",
      "238- 1133\n",
      "239- 1134\n",
      "240- 1135\n",
      "241- 1136\n",
      "242- 1137\n",
      "243- 1138\n",
      "244- 1139\n",
      "245- 1144\n",
      "246- 1145\n",
      "247- 1146\n",
      "248- 1147\n",
      "249- 1148\n",
      "250- 1149\n",
      "251- 1155\n",
      "252- 1156\n",
      "253- 1157\n",
      "254- 1158\n",
      "255- 1159\n",
      "256- 1166\n",
      "257- 1167\n",
      "258- 1168\n",
      "259- 1169\n",
      "260- 1177\n",
      "261- 1178\n",
      "262- 1179\n",
      "263- 1188\n",
      "264- 1189\n",
      "265- 1199\n",
      "266- 1222\n",
      "267- 1223\n",
      "268- 1224\n",
      "269- 1225\n",
      "270- 1226\n",
      "271- 1227\n",
      "272- 1228\n",
      "273- 1229\n",
      "274- 1233\n",
      "275- 1234\n",
      "276- 1235\n",
      "277- 1236\n",
      "278- 1237\n",
      "279- 1238\n",
      "280- 1239\n",
      "281- 1244\n",
      "282- 1245\n",
      "283- 1246\n",
      "284- 1247\n",
      "285- 1248\n",
      "286- 1249\n",
      "287- 1255\n",
      "288- 1256\n",
      "289- 1257\n",
      "290- 1258\n",
      "291- 1259\n",
      "292- 1266\n",
      "293- 1267\n",
      "294- 1268\n",
      "295- 1269\n",
      "296- 1277\n",
      "297- 1278\n",
      "298- 1279\n",
      "299- 1288\n",
      "300- 1289\n",
      "301- 1299\n",
      "302- 1333\n",
      "303- 1334\n",
      "304- 1335\n",
      "305- 1336\n",
      "306- 1337\n",
      "307- 1338\n",
      "308- 1339\n",
      "309- 1344\n",
      "310- 1345\n",
      "311- 1346\n",
      "312- 1347\n",
      "313- 1348\n",
      "314- 1349\n",
      "315- 1355\n",
      "316- 1356\n",
      "317- 1357\n",
      "318- 1358\n",
      "319- 1359\n",
      "320- 1366\n",
      "321- 1367\n",
      "322- 1368\n",
      "323- 1369\n",
      "324- 1377\n",
      "325- 1378\n",
      "326- 1379\n",
      "327- 1388\n",
      "328- 1389\n",
      "329- 1399\n",
      "330- 1444\n",
      "331- 1445\n",
      "332- 1446\n",
      "333- 1447\n",
      "334- 1448\n",
      "335- 1449\n",
      "336- 1455\n",
      "337- 1456\n",
      "338- 1457\n",
      "339- 1458\n",
      "340- 1459\n",
      "341- 1466\n",
      "342- 1467\n",
      "343- 1468\n",
      "344- 1469\n",
      "345- 1477\n",
      "346- 1478\n",
      "347- 1479\n",
      "348- 1488\n",
      "349- 1489\n",
      "350- 1499\n",
      "351- 1555\n",
      "352- 1556\n",
      "353- 1557\n",
      "354- 1558\n",
      "355- 1559\n",
      "356- 1566\n",
      "357- 1567\n",
      "358- 1568\n",
      "359- 1569\n",
      "360- 1577\n",
      "361- 1578\n",
      "362- 1579\n",
      "363- 1588\n",
      "364- 1589\n",
      "365- 1599\n",
      "366- 1666\n",
      "367- 1667\n",
      "368- 1668\n",
      "369- 1669\n",
      "370- 1677\n",
      "371- 1678\n",
      "372- 1679\n",
      "373- 1688\n",
      "374- 1689\n",
      "375- 1699\n",
      "376- 1777\n",
      "377- 1778\n",
      "378- 1779\n",
      "379- 1788\n",
      "380- 1789\n",
      "381- 1799\n",
      "382- 1888\n",
      "383- 1889\n",
      "384- 1899\n",
      "385- 1999\n",
      "386- 2222\n",
      "387- 2223\n",
      "388- 2224\n",
      "389- 2225\n",
      "390- 2226\n",
      "391- 2227\n",
      "392- 2228\n",
      "393- 2229\n",
      "394- 2233\n",
      "395- 2234\n",
      "396- 2235\n",
      "397- 2236\n",
      "398- 2237\n",
      "399- 2238\n",
      "400- 2239\n",
      "401- 2244\n",
      "402- 2245\n",
      "403- 2246\n",
      "404- 2247\n",
      "405- 2248\n",
      "406- 2249\n",
      "407- 2255\n",
      "408- 2256\n",
      "409- 2257\n",
      "410- 2258\n",
      "411- 2259\n",
      "412- 2266\n",
      "413- 2267\n",
      "414- 2268\n",
      "415- 2269\n",
      "416- 2277\n",
      "417- 2278\n",
      "418- 2279\n",
      "419- 2288\n",
      "420- 2289\n",
      "421- 2299\n",
      "422- 2333\n",
      "423- 2334\n",
      "424- 2335\n",
      "425- 2336\n",
      "426- 2337\n",
      "427- 2338\n",
      "428- 2339\n",
      "429- 2344\n",
      "430- 2345\n",
      "431- 2346\n",
      "432- 2347\n",
      "433- 2348\n",
      "434- 2349\n",
      "435- 2355\n",
      "436- 2356\n",
      "437- 2357\n",
      "438- 2358\n",
      "439- 2359\n",
      "440- 2366\n",
      "441- 2367\n",
      "442- 2368\n",
      "443- 2369\n",
      "444- 2377\n",
      "445- 2378\n",
      "446- 2379\n",
      "447- 2388\n",
      "448- 2389\n",
      "449- 2399\n",
      "450- 2444\n",
      "451- 2445\n",
      "452- 2446\n",
      "453- 2447\n",
      "454- 2448\n",
      "455- 2449\n",
      "456- 2455\n",
      "457- 2456\n",
      "458- 2457\n",
      "459- 2458\n",
      "460- 2459\n",
      "461- 2466\n",
      "462- 2467\n",
      "463- 2468\n",
      "464- 2469\n",
      "465- 2477\n",
      "466- 2478\n",
      "467- 2479\n",
      "468- 2488\n",
      "469- 2489\n",
      "470- 2499\n",
      "471- 2555\n",
      "472- 2556\n",
      "473- 2557\n",
      "474- 2558\n",
      "475- 2559\n",
      "476- 2566\n",
      "477- 2567\n",
      "478- 2568\n",
      "479- 2569\n",
      "480- 2577\n",
      "481- 2578\n",
      "482- 2579\n",
      "483- 2588\n",
      "484- 2589\n",
      "485- 2599\n",
      "486- 2666\n",
      "487- 2667\n",
      "488- 2668\n",
      "489- 2669\n",
      "490- 2677\n",
      "491- 2678\n",
      "492- 2679\n",
      "493- 2688\n",
      "494- 2689\n",
      "495- 2699\n",
      "496- 2777\n",
      "497- 2778\n",
      "498- 2779\n",
      "499- 2788\n",
      "500- 2789\n",
      "501- 2799\n",
      "502- 2888\n",
      "503- 2889\n",
      "504- 2899\n",
      "505- 2999\n",
      "506- 3333\n",
      "507- 3334\n",
      "508- 3335\n",
      "509- 3336\n",
      "510- 3337\n",
      "511- 3338\n",
      "512- 3339\n",
      "513- 3344\n",
      "514- 3345\n",
      "515- 3346\n",
      "516- 3347\n",
      "517- 3348\n",
      "518- 3349\n",
      "519- 3355\n",
      "520- 3356\n",
      "521- 3357\n",
      "522- 3358\n",
      "523- 3359\n",
      "524- 3366\n",
      "525- 3367\n",
      "526- 3368\n",
      "527- 3369\n",
      "528- 3377\n",
      "529- 3378\n",
      "530- 3379\n",
      "531- 3388\n",
      "532- 3389\n",
      "533- 3399\n",
      "534- 3444\n",
      "535- 3445\n",
      "536- 3446\n",
      "537- 3447\n",
      "538- 3448\n",
      "539- 3449\n",
      "540- 3455\n",
      "541- 3456\n",
      "542- 3457\n",
      "543- 3458\n",
      "544- 3459\n",
      "545- 3466\n",
      "546- 3467\n",
      "547- 3468\n",
      "548- 3469\n",
      "549- 3477\n",
      "550- 3478\n",
      "551- 3479\n",
      "552- 3488\n",
      "553- 3489\n",
      "554- 3499\n",
      "555- 3555\n",
      "556- 3556\n",
      "557- 3557\n",
      "558- 3558\n",
      "559- 3559\n",
      "560- 3566\n",
      "561- 3567\n",
      "562- 3568\n",
      "563- 3569\n",
      "564- 3577\n",
      "565- 3578\n",
      "566- 3579\n",
      "567- 3588\n",
      "568- 3589\n",
      "569- 3599\n",
      "570- 3666\n",
      "571- 3667\n",
      "572- 3668\n",
      "573- 3669\n",
      "574- 3677\n",
      "575- 3678\n",
      "576- 3679\n",
      "577- 3688\n",
      "578- 3689\n",
      "579- 3699\n",
      "580- 3777\n",
      "581- 3778\n",
      "582- 3779\n",
      "583- 3788\n",
      "584- 3789\n",
      "585- 3799\n",
      "586- 3888\n",
      "587- 3889\n",
      "588- 3899\n",
      "589- 3999\n",
      "590- 4444\n",
      "591- 4445\n",
      "592- 4446\n",
      "593- 4447\n",
      "594- 4448\n",
      "595- 4449\n",
      "596- 4455\n",
      "597- 4456\n",
      "598- 4457\n",
      "599- 4458\n",
      "600- 4459\n",
      "601- 4466\n",
      "602- 4467\n",
      "603- 4468\n",
      "604- 4469\n",
      "605- 4477\n",
      "606- 4478\n",
      "607- 4479\n",
      "608- 4488\n",
      "609- 4489\n",
      "610- 4499\n",
      "611- 4555\n",
      "612- 4556\n",
      "613- 4557\n",
      "614- 4558\n",
      "615- 4559\n",
      "616- 4566\n",
      "617- 4567\n",
      "618- 4568\n",
      "619- 4569\n",
      "620- 4577\n",
      "621- 4578\n",
      "622- 4579\n",
      "623- 4588\n",
      "624- 4589\n",
      "625- 4599\n",
      "626- 4666\n",
      "627- 4667\n",
      "628- 4668\n",
      "629- 4669\n",
      "630- 4677\n",
      "631- 4678\n",
      "632- 4679\n",
      "633- 4688\n",
      "634- 4689\n",
      "635- 4699\n",
      "636- 4777\n",
      "637- 4778\n",
      "638- 4779\n",
      "639- 4788\n",
      "640- 4789\n",
      "641- 4799\n",
      "642- 4888\n",
      "643- 4889\n",
      "644- 4899\n",
      "645- 4999\n",
      "646- 5555\n",
      "647- 5556\n",
      "648- 5557\n",
      "649- 5558\n",
      "650- 5559\n",
      "651- 5566\n",
      "652- 5567\n",
      "653- 5568\n",
      "654- 5569\n",
      "655- 5577\n",
      "656- 5578\n",
      "657- 5579\n",
      "658- 5588\n",
      "659- 5589\n",
      "660- 5599\n",
      "661- 5666\n",
      "662- 5667\n",
      "663- 5668\n",
      "664- 5669\n",
      "665- 5677\n",
      "666- 5678\n",
      "667- 5679\n",
      "668- 5688\n",
      "669- 5689\n",
      "670- 5699\n",
      "671- 5777\n",
      "672- 5778\n",
      "673- 5779\n",
      "674- 5788\n",
      "675- 5789\n",
      "676- 5799\n",
      "677- 5888\n",
      "678- 5889\n",
      "679- 5899\n",
      "680- 5999\n",
      "681- 6666\n",
      "682- 6667\n",
      "683- 6668\n",
      "684- 6669\n",
      "685- 6677\n",
      "686- 6678\n",
      "687- 6679\n",
      "688- 6688\n",
      "689- 6689\n",
      "690- 6699\n",
      "691- 6777\n",
      "692- 6778\n",
      "693- 6779\n",
      "694- 6788\n",
      "695- 6789\n",
      "696- 6799\n",
      "697- 6888\n",
      "698- 6889\n",
      "699- 6899\n",
      "700- 6999\n",
      "701- 7777\n",
      "702- 7778\n",
      "703- 7779\n",
      "704- 7788\n",
      "705- 7789\n",
      "706- 7799\n",
      "707- 7888\n",
      "708- 7889\n",
      "709- 7899\n",
      "710- 7999\n",
      "711- 8888\n",
      "712- 8889\n",
      "713- 8899\n",
      "714- 8999\n",
      "715- 9999\n"
     ]
    }
   ],
   "source": [
    "from itertools import combinations_with_replacement\n",
    "for i, c in enumerate(combinations_with_replacement(\"0123456789\", 4)):\n",
    "  print(str(i+1) + \"- \" + \"\".join(c))"
   ]
  },
  {
   "cell_type": "code",
   "execution_count": 69,
   "metadata": {},
   "outputs": [
    {
     "data": {
      "text/plain": [
       "5040"
      ]
     },
     "execution_count": 69,
     "metadata": {},
     "output_type": "execute_result"
    }
   ],
   "source": [
    "F(7)"
   ]
  },
  {
   "cell_type": "code",
   "execution_count": 70,
   "metadata": {},
   "outputs": [
    {
     "data": {
      "text/plain": [
       "42.0"
      ]
     },
     "execution_count": 70,
     "metadata": {},
     "output_type": "execute_result"
    }
   ],
   "source": [
    "F(7) / 120"
   ]
  },
  {
   "cell_type": "code",
   "execution_count": 71,
   "metadata": {},
   "outputs": [
    {
     "data": {
      "text/plain": [
       "120"
      ]
     },
     "execution_count": 71,
     "metadata": {},
     "output_type": "execute_result"
    }
   ],
   "source": [
    "F(5)"
   ]
  },
  {
   "cell_type": "code",
   "execution_count": 72,
   "metadata": {},
   "outputs": [
    {
     "data": {
      "text/plain": [
       "84.0"
      ]
     },
     "execution_count": 72,
     "metadata": {},
     "output_type": "execute_result"
    }
   ],
   "source": [
    "nck(9, 6)"
   ]
  },
  {
   "cell_type": "code",
   "execution_count": 73,
   "metadata": {},
   "outputs": [
    {
     "data": {
      "text/plain": [
       "3003.0"
      ]
     },
     "execution_count": 73,
     "metadata": {},
     "output_type": "execute_result"
    }
   ],
   "source": [
    "nck(8+7-1, 7-1)"
   ]
  },
  {
   "cell_type": "code",
   "execution_count": 74,
   "metadata": {},
   "outputs": [
    {
     "name": "stdout",
     "output_type": "stream",
     "text": [
      "0 0 0 9\n",
      "0 0 1 8\n",
      "0 0 2 7\n",
      "0 0 3 6\n",
      "0 0 4 5\n",
      "0 0 5 4\n",
      "0 0 6 3\n",
      "0 0 7 2\n",
      "0 0 8 1\n",
      "0 0 9 0\n",
      "0 1 0 8\n",
      "0 1 1 7\n",
      "0 1 2 6\n",
      "0 1 3 5\n",
      "0 1 4 4\n",
      "0 1 5 3\n",
      "0 1 6 2\n",
      "0 1 7 1\n",
      "0 1 8 0\n",
      "0 2 0 7\n",
      "0 2 1 6\n",
      "0 2 2 5\n",
      "0 2 3 4\n",
      "0 2 4 3\n",
      "0 2 5 2\n",
      "0 2 6 1\n",
      "0 2 7 0\n",
      "0 3 0 6\n",
      "0 3 1 5\n",
      "0 3 2 4\n",
      "0 3 3 3\n",
      "0 3 4 2\n",
      "0 3 5 1\n",
      "0 3 6 0\n",
      "0 4 0 5\n",
      "0 4 1 4\n",
      "0 4 2 3\n",
      "0 4 3 2\n",
      "0 4 4 1\n",
      "0 4 5 0\n",
      "0 5 0 4\n",
      "0 5 1 3\n",
      "0 5 2 2\n",
      "0 5 3 1\n",
      "0 5 4 0\n",
      "0 6 0 3\n",
      "0 6 1 2\n",
      "0 6 2 1\n",
      "0 6 3 0\n",
      "0 7 0 2\n",
      "0 7 1 1\n",
      "0 7 2 0\n",
      "0 8 0 1\n",
      "0 8 1 0\n",
      "0 9 0 0\n",
      "1 0 0 8\n",
      "1 0 1 7\n",
      "1 0 2 6\n",
      "1 0 3 5\n",
      "1 0 4 4\n",
      "1 0 5 3\n",
      "1 0 6 2\n",
      "1 0 7 1\n",
      "1 0 8 0\n",
      "1 1 0 7\n",
      "1 1 1 6\n",
      "1 1 2 5\n",
      "1 1 3 4\n",
      "1 1 4 3\n",
      "1 1 5 2\n",
      "1 1 6 1\n",
      "1 1 7 0\n",
      "1 2 0 6\n",
      "1 2 1 5\n",
      "1 2 2 4\n",
      "1 2 3 3\n",
      "1 2 4 2\n",
      "1 2 5 1\n",
      "1 2 6 0\n",
      "1 3 0 5\n",
      "1 3 1 4\n",
      "1 3 2 3\n",
      "1 3 3 2\n",
      "1 3 4 1\n",
      "1 3 5 0\n",
      "1 4 0 4\n",
      "1 4 1 3\n",
      "1 4 2 2\n",
      "1 4 3 1\n",
      "1 4 4 0\n",
      "1 5 0 3\n",
      "1 5 1 2\n",
      "1 5 2 1\n",
      "1 5 3 0\n",
      "1 6 0 2\n",
      "1 6 1 1\n",
      "1 6 2 0\n",
      "1 7 0 1\n",
      "1 7 1 0\n",
      "1 8 0 0\n",
      "2 0 0 7\n",
      "2 0 1 6\n",
      "2 0 2 5\n",
      "2 0 3 4\n",
      "2 0 4 3\n",
      "2 0 5 2\n",
      "2 0 6 1\n",
      "2 0 7 0\n",
      "2 1 0 6\n",
      "2 1 1 5\n",
      "2 1 2 4\n",
      "2 1 3 3\n",
      "2 1 4 2\n",
      "2 1 5 1\n",
      "2 1 6 0\n",
      "2 2 0 5\n",
      "2 2 1 4\n",
      "2 2 2 3\n",
      "2 2 3 2\n",
      "2 2 4 1\n",
      "2 2 5 0\n",
      "2 3 0 4\n",
      "2 3 1 3\n",
      "2 3 2 2\n",
      "2 3 3 1\n",
      "2 3 4 0\n",
      "2 4 0 3\n",
      "2 4 1 2\n",
      "2 4 2 1\n",
      "2 4 3 0\n",
      "2 5 0 2\n",
      "2 5 1 1\n",
      "2 5 2 0\n",
      "2 6 0 1\n",
      "2 6 1 0\n",
      "2 7 0 0\n",
      "3 0 0 6\n",
      "3 0 1 5\n",
      "3 0 2 4\n",
      "3 0 3 3\n",
      "3 0 4 2\n",
      "3 0 5 1\n",
      "3 0 6 0\n",
      "3 1 0 5\n",
      "3 1 1 4\n",
      "3 1 2 3\n",
      "3 1 3 2\n",
      "3 1 4 1\n",
      "3 1 5 0\n",
      "3 2 0 4\n",
      "3 2 1 3\n",
      "3 2 2 2\n",
      "3 2 3 1\n",
      "3 2 4 0\n",
      "3 3 0 3\n",
      "3 3 1 2\n",
      "3 3 2 1\n",
      "3 3 3 0\n",
      "3 4 0 2\n",
      "3 4 1 1\n",
      "3 4 2 0\n",
      "3 5 0 1\n",
      "3 5 1 0\n",
      "3 6 0 0\n",
      "4 0 0 5\n",
      "4 0 1 4\n",
      "4 0 2 3\n",
      "4 0 3 2\n",
      "4 0 4 1\n",
      "4 0 5 0\n",
      "4 1 0 4\n",
      "4 1 1 3\n",
      "4 1 2 2\n",
      "4 1 3 1\n",
      "4 1 4 0\n",
      "4 2 0 3\n",
      "4 2 1 2\n",
      "4 2 2 1\n",
      "4 2 3 0\n",
      "4 3 0 2\n",
      "4 3 1 1\n",
      "4 3 2 0\n",
      "4 4 0 1\n",
      "4 4 1 0\n",
      "4 5 0 0\n",
      "5 0 0 4\n",
      "5 0 1 3\n",
      "5 0 2 2\n",
      "5 0 3 1\n",
      "5 0 4 0\n",
      "5 1 0 3\n",
      "5 1 1 2\n",
      "5 1 2 1\n",
      "5 1 3 0\n",
      "5 2 0 2\n",
      "5 2 1 1\n",
      "5 2 2 0\n",
      "5 3 0 1\n",
      "5 3 1 0\n",
      "5 4 0 0\n",
      "6 0 0 3\n",
      "6 0 1 2\n",
      "6 0 2 1\n",
      "6 0 3 0\n",
      "6 1 0 2\n",
      "6 1 1 1\n",
      "6 1 2 0\n",
      "6 2 0 1\n",
      "6 2 1 0\n",
      "6 3 0 0\n",
      "7 0 0 2\n",
      "7 0 1 1\n",
      "7 0 2 0\n",
      "7 1 0 1\n",
      "7 1 1 0\n",
      "7 2 0 0\n",
      "8 0 0 1\n",
      "8 0 1 0\n",
      "8 1 0 0\n",
      "9 0 0 0\n",
      "220\n"
     ]
    }
   ],
   "source": [
    "c = 0\n",
    "for i in range(10):\n",
    "    for j in range(10):\n",
    "        for k in range(10):\n",
    "            for l in range(10):\n",
    "                if i + j + k + l == 9:\n",
    "                    print(i, j, k, l)\n",
    "                    c += 1\n",
    "print(c)"
   ]
  },
  {
   "cell_type": "code",
   "execution_count": 75,
   "metadata": {},
   "outputs": [
    {
     "name": "stdout",
     "output_type": "stream",
     "text": [
      "123\n",
      "124\n",
      "125\n",
      "126\n",
      "127\n",
      "128\n",
      "132\n",
      "134\n",
      "135\n",
      "136\n",
      "137\n",
      "138\n",
      "142\n",
      "143\n",
      "145\n",
      "146\n",
      "147\n",
      "148\n",
      "152\n",
      "153\n",
      "154\n",
      "156\n",
      "157\n",
      "158\n",
      "162\n",
      "163\n",
      "164\n",
      "165\n",
      "167\n",
      "168\n",
      "172\n",
      "173\n",
      "174\n",
      "175\n",
      "176\n",
      "178\n",
      "182\n",
      "183\n",
      "184\n",
      "185\n",
      "186\n",
      "187\n",
      "213\n",
      "214\n",
      "215\n",
      "216\n",
      "217\n",
      "218\n",
      "231\n",
      "234\n",
      "235\n",
      "236\n",
      "237\n",
      "238\n",
      "241\n",
      "243\n",
      "245\n",
      "246\n",
      "247\n",
      "248\n",
      "251\n",
      "253\n",
      "254\n",
      "256\n",
      "257\n",
      "258\n",
      "261\n",
      "263\n",
      "264\n",
      "265\n",
      "267\n",
      "268\n",
      "271\n",
      "273\n",
      "274\n",
      "275\n",
      "276\n",
      "278\n",
      "281\n",
      "283\n",
      "284\n",
      "285\n",
      "286\n",
      "287\n",
      "312\n",
      "314\n",
      "315\n",
      "316\n",
      "317\n",
      "318\n",
      "321\n",
      "324\n",
      "325\n",
      "326\n",
      "327\n",
      "328\n",
      "341\n",
      "342\n",
      "345\n",
      "346\n",
      "347\n",
      "348\n",
      "351\n",
      "352\n",
      "354\n",
      "356\n",
      "357\n",
      "358\n",
      "361\n",
      "362\n",
      "364\n",
      "365\n",
      "367\n",
      "368\n",
      "371\n",
      "372\n",
      "374\n",
      "375\n",
      "376\n",
      "378\n",
      "381\n",
      "382\n",
      "384\n",
      "385\n",
      "386\n",
      "387\n",
      "412\n",
      "413\n",
      "415\n",
      "416\n",
      "417\n",
      "418\n",
      "421\n",
      "423\n",
      "425\n",
      "426\n",
      "427\n",
      "428\n",
      "431\n",
      "432\n",
      "435\n",
      "436\n",
      "437\n",
      "438\n",
      "451\n",
      "452\n",
      "453\n",
      "456\n",
      "457\n",
      "458\n",
      "461\n",
      "462\n",
      "463\n",
      "465\n",
      "467\n",
      "468\n",
      "471\n",
      "472\n",
      "473\n",
      "475\n",
      "476\n",
      "478\n",
      "481\n",
      "482\n",
      "483\n",
      "485\n",
      "486\n",
      "487\n",
      "512\n",
      "513\n",
      "514\n",
      "516\n",
      "517\n",
      "518\n",
      "521\n",
      "523\n",
      "524\n",
      "526\n",
      "527\n",
      "528\n",
      "531\n",
      "532\n",
      "534\n",
      "536\n",
      "537\n",
      "538\n",
      "541\n",
      "542\n",
      "543\n",
      "546\n",
      "547\n",
      "548\n",
      "561\n",
      "562\n",
      "563\n",
      "564\n",
      "567\n",
      "568\n",
      "571\n",
      "572\n",
      "573\n",
      "574\n",
      "576\n",
      "578\n",
      "581\n",
      "582\n",
      "583\n",
      "584\n",
      "586\n",
      "587\n",
      "612\n",
      "613\n",
      "614\n",
      "615\n",
      "617\n",
      "618\n",
      "621\n",
      "623\n",
      "624\n",
      "625\n",
      "627\n",
      "628\n",
      "631\n",
      "632\n",
      "634\n",
      "635\n",
      "637\n",
      "638\n",
      "641\n",
      "642\n",
      "643\n",
      "645\n",
      "647\n",
      "648\n",
      "651\n",
      "652\n",
      "653\n",
      "654\n",
      "657\n",
      "658\n",
      "671\n",
      "672\n",
      "673\n",
      "674\n",
      "675\n",
      "678\n",
      "681\n",
      "682\n",
      "683\n",
      "684\n",
      "685\n",
      "687\n",
      "712\n",
      "713\n",
      "714\n",
      "715\n",
      "716\n",
      "718\n",
      "721\n",
      "723\n",
      "724\n",
      "725\n",
      "726\n",
      "728\n",
      "731\n",
      "732\n",
      "734\n",
      "735\n",
      "736\n",
      "738\n",
      "741\n",
      "742\n",
      "743\n",
      "745\n",
      "746\n",
      "748\n",
      "751\n",
      "752\n",
      "753\n",
      "754\n",
      "756\n",
      "758\n",
      "761\n",
      "762\n",
      "763\n",
      "764\n",
      "765\n",
      "768\n",
      "781\n",
      "782\n",
      "783\n",
      "784\n",
      "785\n",
      "786\n",
      "812\n",
      "813\n",
      "814\n",
      "815\n",
      "816\n",
      "817\n",
      "821\n",
      "823\n",
      "824\n",
      "825\n",
      "826\n",
      "827\n",
      "831\n",
      "832\n",
      "834\n",
      "835\n",
      "836\n",
      "837\n",
      "841\n",
      "842\n",
      "843\n",
      "845\n",
      "846\n",
      "847\n",
      "851\n",
      "852\n",
      "853\n",
      "854\n",
      "856\n",
      "857\n",
      "861\n",
      "862\n",
      "863\n",
      "864\n",
      "865\n",
      "867\n",
      "871\n",
      "872\n",
      "873\n",
      "874\n",
      "875\n",
      "876\n",
      "336\n"
     ]
    }
   ],
   "source": [
    "from itertools import permutations\n",
    "c = 0\n",
    "for a in permutations(\"12345678\", 3):\n",
    "    print(\"\".join(a))\n",
    "    c += 1\n",
    "print(c)"
   ]
  },
  {
   "cell_type": "code",
   "execution_count": 76,
   "metadata": {},
   "outputs": [
    {
     "data": {
      "text/plain": [
       "126.0"
      ]
     },
     "execution_count": 76,
     "metadata": {},
     "output_type": "execute_result"
    }
   ],
   "source": [
    "nck(9, 4)"
   ]
  },
  {
   "cell_type": "code",
   "execution_count": 77,
   "metadata": {},
   "outputs": [
    {
     "data": {
      "text/plain": [
       "262144"
      ]
     },
     "execution_count": 77,
     "metadata": {},
     "output_type": "execute_result"
    }
   ],
   "source": [
    "4 ** 9"
   ]
  },
  {
   "cell_type": "code",
   "execution_count": 78,
   "metadata": {},
   "outputs": [
    {
     "data": {
      "text/plain": [
       "220"
      ]
     },
     "execution_count": 78,
     "metadata": {},
     "output_type": "execute_result"
    }
   ],
   "source": [
    "c = 0\n",
    "for i in range(1, 10001):\n",
    "    s = list(str(i))\n",
    "    n = sum([int(i) for i in s])\n",
    "    if n == 9:\n",
    "        c += 1\n",
    "c\n",
    "    "
   ]
  },
  {
   "cell_type": "code",
   "execution_count": 79,
   "metadata": {},
   "outputs": [
    {
     "name": "stdout",
     "output_type": "stream",
     "text": [
      "(0, 0, 0, 9)\n",
      "(0, 0, 1, 8)\n",
      "(0, 0, 2, 7)\n",
      "(0, 0, 3, 6)\n",
      "(0, 0, 4, 5)\n",
      "(0, 0, 5, 4)\n",
      "(0, 0, 6, 3)\n",
      "(0, 0, 7, 2)\n",
      "(0, 0, 8, 1)\n",
      "(0, 0, 9, 0)\n",
      "(0, 1, 0, 8)\n",
      "(0, 1, 1, 7)\n",
      "(0, 1, 2, 6)\n",
      "(0, 1, 3, 5)\n",
      "(0, 1, 4, 4)\n",
      "(0, 1, 5, 3)\n",
      "(0, 1, 6, 2)\n",
      "(0, 1, 7, 1)\n",
      "(0, 1, 8, 0)\n",
      "(0, 2, 0, 7)\n",
      "(0, 2, 1, 6)\n",
      "(0, 2, 2, 5)\n",
      "(0, 2, 3, 4)\n",
      "(0, 2, 4, 3)\n",
      "(0, 2, 5, 2)\n",
      "(0, 2, 6, 1)\n",
      "(0, 2, 7, 0)\n",
      "(0, 3, 0, 6)\n",
      "(0, 3, 1, 5)\n",
      "(0, 3, 2, 4)\n",
      "(0, 3, 3, 3)\n",
      "(0, 3, 4, 2)\n",
      "(0, 3, 5, 1)\n",
      "(0, 3, 6, 0)\n",
      "(0, 4, 0, 5)\n",
      "(0, 4, 1, 4)\n",
      "(0, 4, 2, 3)\n",
      "(0, 4, 3, 2)\n",
      "(0, 4, 4, 1)\n",
      "(0, 4, 5, 0)\n",
      "(0, 5, 0, 4)\n",
      "(0, 5, 1, 3)\n",
      "(0, 5, 2, 2)\n",
      "(0, 5, 3, 1)\n",
      "(0, 5, 4, 0)\n",
      "(0, 6, 0, 3)\n",
      "(0, 6, 1, 2)\n",
      "(0, 6, 2, 1)\n",
      "(0, 6, 3, 0)\n",
      "(0, 7, 0, 2)\n",
      "(0, 7, 1, 1)\n",
      "(0, 7, 2, 0)\n",
      "(0, 8, 0, 1)\n",
      "(0, 8, 1, 0)\n",
      "(0, 9, 0, 0)\n",
      "(1, 0, 0, 8)\n",
      "(1, 0, 1, 7)\n",
      "(1, 0, 2, 6)\n",
      "(1, 0, 3, 5)\n",
      "(1, 0, 4, 4)\n",
      "(1, 0, 5, 3)\n",
      "(1, 0, 6, 2)\n",
      "(1, 0, 7, 1)\n",
      "(1, 0, 8, 0)\n",
      "(1, 1, 0, 7)\n",
      "(1, 1, 1, 6)\n",
      "(1, 1, 2, 5)\n",
      "(1, 1, 3, 4)\n",
      "(1, 1, 4, 3)\n",
      "(1, 1, 5, 2)\n",
      "(1, 1, 6, 1)\n",
      "(1, 1, 7, 0)\n",
      "(1, 2, 0, 6)\n",
      "(1, 2, 1, 5)\n",
      "(1, 2, 2, 4)\n",
      "(1, 2, 3, 3)\n",
      "(1, 2, 4, 2)\n",
      "(1, 2, 5, 1)\n",
      "(1, 2, 6, 0)\n",
      "(1, 3, 0, 5)\n",
      "(1, 3, 1, 4)\n",
      "(1, 3, 2, 3)\n",
      "(1, 3, 3, 2)\n",
      "(1, 3, 4, 1)\n",
      "(1, 3, 5, 0)\n",
      "(1, 4, 0, 4)\n",
      "(1, 4, 1, 3)\n",
      "(1, 4, 2, 2)\n",
      "(1, 4, 3, 1)\n",
      "(1, 4, 4, 0)\n",
      "(1, 5, 0, 3)\n",
      "(1, 5, 1, 2)\n",
      "(1, 5, 2, 1)\n",
      "(1, 5, 3, 0)\n",
      "(1, 6, 0, 2)\n",
      "(1, 6, 1, 1)\n",
      "(1, 6, 2, 0)\n",
      "(1, 7, 0, 1)\n",
      "(1, 7, 1, 0)\n",
      "(1, 8, 0, 0)\n",
      "(2, 0, 0, 7)\n",
      "(2, 0, 1, 6)\n",
      "(2, 0, 2, 5)\n",
      "(2, 0, 3, 4)\n",
      "(2, 0, 4, 3)\n",
      "(2, 0, 5, 2)\n",
      "(2, 0, 6, 1)\n",
      "(2, 0, 7, 0)\n",
      "(2, 1, 0, 6)\n",
      "(2, 1, 1, 5)\n",
      "(2, 1, 2, 4)\n",
      "(2, 1, 3, 3)\n",
      "(2, 1, 4, 2)\n",
      "(2, 1, 5, 1)\n",
      "(2, 1, 6, 0)\n",
      "(2, 2, 0, 5)\n",
      "(2, 2, 1, 4)\n",
      "(2, 2, 2, 3)\n",
      "(2, 2, 3, 2)\n",
      "(2, 2, 4, 1)\n",
      "(2, 2, 5, 0)\n",
      "(2, 3, 0, 4)\n",
      "(2, 3, 1, 3)\n",
      "(2, 3, 2, 2)\n",
      "(2, 3, 3, 1)\n",
      "(2, 3, 4, 0)\n",
      "(2, 4, 0, 3)\n",
      "(2, 4, 1, 2)\n",
      "(2, 4, 2, 1)\n",
      "(2, 4, 3, 0)\n",
      "(2, 5, 0, 2)\n",
      "(2, 5, 1, 1)\n",
      "(2, 5, 2, 0)\n",
      "(2, 6, 0, 1)\n",
      "(2, 6, 1, 0)\n",
      "(2, 7, 0, 0)\n",
      "(3, 0, 0, 6)\n",
      "(3, 0, 1, 5)\n",
      "(3, 0, 2, 4)\n",
      "(3, 0, 3, 3)\n",
      "(3, 0, 4, 2)\n",
      "(3, 0, 5, 1)\n",
      "(3, 0, 6, 0)\n",
      "(3, 1, 0, 5)\n",
      "(3, 1, 1, 4)\n",
      "(3, 1, 2, 3)\n",
      "(3, 1, 3, 2)\n",
      "(3, 1, 4, 1)\n",
      "(3, 1, 5, 0)\n",
      "(3, 2, 0, 4)\n",
      "(3, 2, 1, 3)\n",
      "(3, 2, 2, 2)\n",
      "(3, 2, 3, 1)\n",
      "(3, 2, 4, 0)\n",
      "(3, 3, 0, 3)\n",
      "(3, 3, 1, 2)\n",
      "(3, 3, 2, 1)\n",
      "(3, 3, 3, 0)\n",
      "(3, 4, 0, 2)\n",
      "(3, 4, 1, 1)\n",
      "(3, 4, 2, 0)\n",
      "(3, 5, 0, 1)\n",
      "(3, 5, 1, 0)\n",
      "(3, 6, 0, 0)\n",
      "(4, 0, 0, 5)\n",
      "(4, 0, 1, 4)\n",
      "(4, 0, 2, 3)\n",
      "(4, 0, 3, 2)\n",
      "(4, 0, 4, 1)\n",
      "(4, 0, 5, 0)\n",
      "(4, 1, 0, 4)\n",
      "(4, 1, 1, 3)\n",
      "(4, 1, 2, 2)\n",
      "(4, 1, 3, 1)\n",
      "(4, 1, 4, 0)\n",
      "(4, 2, 0, 3)\n",
      "(4, 2, 1, 2)\n",
      "(4, 2, 2, 1)\n",
      "(4, 2, 3, 0)\n",
      "(4, 3, 0, 2)\n",
      "(4, 3, 1, 1)\n",
      "(4, 3, 2, 0)\n",
      "(4, 4, 0, 1)\n",
      "(4, 4, 1, 0)\n",
      "(4, 5, 0, 0)\n",
      "(5, 0, 0, 4)\n",
      "(5, 0, 1, 3)\n",
      "(5, 0, 2, 2)\n",
      "(5, 0, 3, 1)\n",
      "(5, 0, 4, 0)\n",
      "(5, 1, 0, 3)\n",
      "(5, 1, 1, 2)\n",
      "(5, 1, 2, 1)\n",
      "(5, 1, 3, 0)\n",
      "(5, 2, 0, 2)\n",
      "(5, 2, 1, 1)\n",
      "(5, 2, 2, 0)\n",
      "(5, 3, 0, 1)\n",
      "(5, 3, 1, 0)\n",
      "(5, 4, 0, 0)\n",
      "(6, 0, 0, 3)\n",
      "(6, 0, 1, 2)\n",
      "(6, 0, 2, 1)\n",
      "(6, 0, 3, 0)\n",
      "(6, 1, 0, 2)\n",
      "(6, 1, 1, 1)\n",
      "(6, 1, 2, 0)\n",
      "(6, 2, 0, 1)\n",
      "(6, 2, 1, 0)\n",
      "(6, 3, 0, 0)\n",
      "(7, 0, 0, 2)\n",
      "(7, 0, 1, 1)\n",
      "(7, 0, 2, 0)\n",
      "(7, 1, 0, 1)\n",
      "(7, 1, 1, 0)\n",
      "(7, 2, 0, 0)\n",
      "(8, 0, 0, 1)\n",
      "(8, 0, 1, 0)\n",
      "(8, 1, 0, 0)\n",
      "(9, 0, 0, 0)\n"
     ]
    }
   ],
   "source": [
    "import itertools as it\n",
    "for d in it.product(range(10), repeat = 4):\n",
    "    if sum(d) == 9:\n",
    "        print(d)"
   ]
  },
  {
   "cell_type": "code",
   "execution_count": 80,
   "metadata": {},
   "outputs": [
    {
     "data": {
      "text/plain": [
       "220.0"
      ]
     },
     "execution_count": 80,
     "metadata": {},
     "output_type": "execute_result"
    }
   ],
   "source": [
    "nck(12, 3)"
   ]
  },
  {
   "cell_type": "code",
   "execution_count": 81,
   "metadata": {},
   "outputs": [
    {
     "name": "stdout",
     "output_type": "stream",
     "text": [
      "(0, 0, 0, 0)\n",
      "(1, 0, 0, 0)\n",
      "(1, 1, 0, 0)\n",
      "(1, 1, 1, 0)\n",
      "(1, 1, 1, 1)\n",
      "(2, 0, 0, 0)\n",
      "(2, 1, 0, 0)\n",
      "(2, 1, 1, 0)\n",
      "(2, 1, 1, 1)\n",
      "(2, 2, 0, 0)\n",
      "(2, 2, 1, 0)\n",
      "(2, 2, 1, 1)\n",
      "(2, 2, 2, 0)\n",
      "(2, 2, 2, 1)\n",
      "(2, 2, 2, 2)\n",
      "(3, 0, 0, 0)\n",
      "(3, 1, 0, 0)\n",
      "(3, 1, 1, 0)\n",
      "(3, 1, 1, 1)\n",
      "(3, 2, 0, 0)\n",
      "(3, 2, 1, 0)\n",
      "(3, 2, 1, 1)\n",
      "(3, 2, 2, 0)\n",
      "(3, 2, 2, 1)\n",
      "(3, 2, 2, 2)\n",
      "(3, 3, 0, 0)\n",
      "(3, 3, 1, 0)\n",
      "(3, 3, 1, 1)\n",
      "(3, 3, 2, 0)\n",
      "(3, 3, 2, 1)\n",
      "(3, 3, 2, 2)\n",
      "(3, 3, 3, 0)\n",
      "(3, 3, 3, 1)\n",
      "(3, 3, 3, 2)\n",
      "(3, 3, 3, 3)\n",
      "(4, 0, 0, 0)\n",
      "(4, 1, 0, 0)\n",
      "(4, 1, 1, 0)\n",
      "(4, 1, 1, 1)\n",
      "(4, 2, 0, 0)\n",
      "(4, 2, 1, 0)\n",
      "(4, 2, 1, 1)\n",
      "(4, 2, 2, 0)\n",
      "(4, 2, 2, 1)\n",
      "(4, 2, 2, 2)\n",
      "(4, 3, 0, 0)\n",
      "(4, 3, 1, 0)\n",
      "(4, 3, 1, 1)\n",
      "(4, 3, 2, 0)\n",
      "(4, 3, 2, 1)\n",
      "(4, 3, 2, 2)\n",
      "(4, 3, 3, 0)\n",
      "(4, 3, 3, 1)\n",
      "(4, 3, 3, 2)\n",
      "(4, 3, 3, 3)\n",
      "(4, 4, 0, 0)\n",
      "(4, 4, 1, 0)\n",
      "(4, 4, 1, 1)\n",
      "(4, 4, 2, 0)\n",
      "(4, 4, 2, 1)\n",
      "(4, 4, 2, 2)\n",
      "(4, 4, 3, 0)\n",
      "(4, 4, 3, 1)\n",
      "(4, 4, 3, 2)\n",
      "(4, 4, 3, 3)\n",
      "(4, 4, 4, 0)\n",
      "(4, 4, 4, 1)\n",
      "(4, 4, 4, 2)\n",
      "(4, 4, 4, 3)\n",
      "(4, 4, 4, 4)\n",
      "(5, 0, 0, 0)\n",
      "(5, 1, 0, 0)\n",
      "(5, 1, 1, 0)\n",
      "(5, 1, 1, 1)\n",
      "(5, 2, 0, 0)\n",
      "(5, 2, 1, 0)\n",
      "(5, 2, 1, 1)\n",
      "(5, 2, 2, 0)\n",
      "(5, 2, 2, 1)\n",
      "(5, 2, 2, 2)\n",
      "(5, 3, 0, 0)\n",
      "(5, 3, 1, 0)\n",
      "(5, 3, 1, 1)\n",
      "(5, 3, 2, 0)\n",
      "(5, 3, 2, 1)\n",
      "(5, 3, 2, 2)\n",
      "(5, 3, 3, 0)\n",
      "(5, 3, 3, 1)\n",
      "(5, 3, 3, 2)\n",
      "(5, 3, 3, 3)\n",
      "(5, 4, 0, 0)\n",
      "(5, 4, 1, 0)\n",
      "(5, 4, 1, 1)\n",
      "(5, 4, 2, 0)\n",
      "(5, 4, 2, 1)\n",
      "(5, 4, 2, 2)\n",
      "(5, 4, 3, 0)\n",
      "(5, 4, 3, 1)\n",
      "(5, 4, 3, 2)\n",
      "(5, 4, 3, 3)\n",
      "(5, 4, 4, 0)\n",
      "(5, 4, 4, 1)\n",
      "(5, 4, 4, 2)\n",
      "(5, 4, 4, 3)\n",
      "(5, 4, 4, 4)\n",
      "(5, 5, 0, 0)\n",
      "(5, 5, 1, 0)\n",
      "(5, 5, 1, 1)\n",
      "(5, 5, 2, 0)\n",
      "(5, 5, 2, 1)\n",
      "(5, 5, 2, 2)\n",
      "(5, 5, 3, 0)\n",
      "(5, 5, 3, 1)\n",
      "(5, 5, 3, 2)\n",
      "(5, 5, 3, 3)\n",
      "(5, 5, 4, 0)\n",
      "(5, 5, 4, 1)\n",
      "(5, 5, 4, 2)\n",
      "(5, 5, 4, 3)\n",
      "(5, 5, 4, 4)\n",
      "(5, 5, 5, 0)\n",
      "(5, 5, 5, 1)\n",
      "(5, 5, 5, 2)\n",
      "(5, 5, 5, 3)\n",
      "(5, 5, 5, 4)\n",
      "(5, 5, 5, 5)\n",
      "(6, 0, 0, 0)\n",
      "(6, 1, 0, 0)\n",
      "(6, 1, 1, 0)\n",
      "(6, 1, 1, 1)\n",
      "(6, 2, 0, 0)\n",
      "(6, 2, 1, 0)\n",
      "(6, 2, 1, 1)\n",
      "(6, 2, 2, 0)\n",
      "(6, 2, 2, 1)\n",
      "(6, 2, 2, 2)\n",
      "(6, 3, 0, 0)\n",
      "(6, 3, 1, 0)\n",
      "(6, 3, 1, 1)\n",
      "(6, 3, 2, 0)\n",
      "(6, 3, 2, 1)\n",
      "(6, 3, 2, 2)\n",
      "(6, 3, 3, 0)\n",
      "(6, 3, 3, 1)\n",
      "(6, 3, 3, 2)\n",
      "(6, 3, 3, 3)\n",
      "(6, 4, 0, 0)\n",
      "(6, 4, 1, 0)\n",
      "(6, 4, 1, 1)\n",
      "(6, 4, 2, 0)\n",
      "(6, 4, 2, 1)\n",
      "(6, 4, 2, 2)\n",
      "(6, 4, 3, 0)\n",
      "(6, 4, 3, 1)\n",
      "(6, 4, 3, 2)\n",
      "(6, 4, 3, 3)\n",
      "(6, 4, 4, 0)\n",
      "(6, 4, 4, 1)\n",
      "(6, 4, 4, 2)\n",
      "(6, 4, 4, 3)\n",
      "(6, 4, 4, 4)\n",
      "(6, 5, 0, 0)\n",
      "(6, 5, 1, 0)\n",
      "(6, 5, 1, 1)\n",
      "(6, 5, 2, 0)\n",
      "(6, 5, 2, 1)\n",
      "(6, 5, 2, 2)\n",
      "(6, 5, 3, 0)\n",
      "(6, 5, 3, 1)\n",
      "(6, 5, 3, 2)\n",
      "(6, 5, 3, 3)\n",
      "(6, 5, 4, 0)\n",
      "(6, 5, 4, 1)\n",
      "(6, 5, 4, 2)\n",
      "(6, 5, 4, 3)\n",
      "(6, 5, 4, 4)\n",
      "(6, 5, 5, 0)\n",
      "(6, 5, 5, 1)\n",
      "(6, 5, 5, 2)\n",
      "(6, 5, 5, 3)\n",
      "(6, 5, 5, 4)\n",
      "(6, 5, 5, 5)\n",
      "(6, 6, 0, 0)\n",
      "(6, 6, 1, 0)\n",
      "(6, 6, 1, 1)\n",
      "(6, 6, 2, 0)\n",
      "(6, 6, 2, 1)\n",
      "(6, 6, 2, 2)\n",
      "(6, 6, 3, 0)\n",
      "(6, 6, 3, 1)\n",
      "(6, 6, 3, 2)\n",
      "(6, 6, 3, 3)\n",
      "(6, 6, 4, 0)\n",
      "(6, 6, 4, 1)\n",
      "(6, 6, 4, 2)\n",
      "(6, 6, 4, 3)\n",
      "(6, 6, 4, 4)\n",
      "(6, 6, 5, 0)\n",
      "(6, 6, 5, 1)\n",
      "(6, 6, 5, 2)\n",
      "(6, 6, 5, 3)\n",
      "(6, 6, 5, 4)\n",
      "(6, 6, 5, 5)\n",
      "(6, 6, 6, 0)\n",
      "(6, 6, 6, 1)\n",
      "(6, 6, 6, 2)\n",
      "(6, 6, 6, 3)\n",
      "(6, 6, 6, 4)\n",
      "(6, 6, 6, 5)\n",
      "(6, 6, 6, 6)\n",
      "(7, 0, 0, 0)\n",
      "(7, 1, 0, 0)\n",
      "(7, 1, 1, 0)\n",
      "(7, 1, 1, 1)\n",
      "(7, 2, 0, 0)\n",
      "(7, 2, 1, 0)\n",
      "(7, 2, 1, 1)\n",
      "(7, 2, 2, 0)\n",
      "(7, 2, 2, 1)\n",
      "(7, 2, 2, 2)\n",
      "(7, 3, 0, 0)\n",
      "(7, 3, 1, 0)\n",
      "(7, 3, 1, 1)\n",
      "(7, 3, 2, 0)\n",
      "(7, 3, 2, 1)\n",
      "(7, 3, 2, 2)\n",
      "(7, 3, 3, 0)\n",
      "(7, 3, 3, 1)\n",
      "(7, 3, 3, 2)\n",
      "(7, 3, 3, 3)\n",
      "(7, 4, 0, 0)\n",
      "(7, 4, 1, 0)\n",
      "(7, 4, 1, 1)\n",
      "(7, 4, 2, 0)\n",
      "(7, 4, 2, 1)\n",
      "(7, 4, 2, 2)\n",
      "(7, 4, 3, 0)\n",
      "(7, 4, 3, 1)\n",
      "(7, 4, 3, 2)\n",
      "(7, 4, 3, 3)\n",
      "(7, 4, 4, 0)\n",
      "(7, 4, 4, 1)\n",
      "(7, 4, 4, 2)\n",
      "(7, 4, 4, 3)\n",
      "(7, 4, 4, 4)\n",
      "(7, 5, 0, 0)\n",
      "(7, 5, 1, 0)\n",
      "(7, 5, 1, 1)\n",
      "(7, 5, 2, 0)\n",
      "(7, 5, 2, 1)\n",
      "(7, 5, 2, 2)\n",
      "(7, 5, 3, 0)\n",
      "(7, 5, 3, 1)\n",
      "(7, 5, 3, 2)\n",
      "(7, 5, 3, 3)\n",
      "(7, 5, 4, 0)\n",
      "(7, 5, 4, 1)\n",
      "(7, 5, 4, 2)\n",
      "(7, 5, 4, 3)\n",
      "(7, 5, 4, 4)\n",
      "(7, 5, 5, 0)\n",
      "(7, 5, 5, 1)\n",
      "(7, 5, 5, 2)\n",
      "(7, 5, 5, 3)\n",
      "(7, 5, 5, 4)\n",
      "(7, 5, 5, 5)\n",
      "(7, 6, 0, 0)\n",
      "(7, 6, 1, 0)\n",
      "(7, 6, 1, 1)\n",
      "(7, 6, 2, 0)\n",
      "(7, 6, 2, 1)\n",
      "(7, 6, 2, 2)\n",
      "(7, 6, 3, 0)\n",
      "(7, 6, 3, 1)\n",
      "(7, 6, 3, 2)\n",
      "(7, 6, 3, 3)\n",
      "(7, 6, 4, 0)\n",
      "(7, 6, 4, 1)\n",
      "(7, 6, 4, 2)\n",
      "(7, 6, 4, 3)\n",
      "(7, 6, 4, 4)\n",
      "(7, 6, 5, 0)\n",
      "(7, 6, 5, 1)\n",
      "(7, 6, 5, 2)\n",
      "(7, 6, 5, 3)\n",
      "(7, 6, 5, 4)\n",
      "(7, 6, 5, 5)\n",
      "(7, 6, 6, 0)\n",
      "(7, 6, 6, 1)\n",
      "(7, 6, 6, 2)\n",
      "(7, 6, 6, 3)\n",
      "(7, 6, 6, 4)\n",
      "(7, 6, 6, 5)\n",
      "(7, 6, 6, 6)\n",
      "(7, 7, 0, 0)\n",
      "(7, 7, 1, 0)\n",
      "(7, 7, 1, 1)\n",
      "(7, 7, 2, 0)\n",
      "(7, 7, 2, 1)\n",
      "(7, 7, 2, 2)\n",
      "(7, 7, 3, 0)\n",
      "(7, 7, 3, 1)\n",
      "(7, 7, 3, 2)\n",
      "(7, 7, 3, 3)\n",
      "(7, 7, 4, 0)\n",
      "(7, 7, 4, 1)\n",
      "(7, 7, 4, 2)\n",
      "(7, 7, 4, 3)\n",
      "(7, 7, 4, 4)\n",
      "(7, 7, 5, 0)\n",
      "(7, 7, 5, 1)\n",
      "(7, 7, 5, 2)\n",
      "(7, 7, 5, 3)\n",
      "(7, 7, 5, 4)\n",
      "(7, 7, 5, 5)\n",
      "(7, 7, 6, 0)\n",
      "(7, 7, 6, 1)\n",
      "(7, 7, 6, 2)\n",
      "(7, 7, 6, 3)\n",
      "(7, 7, 6, 4)\n",
      "(7, 7, 6, 5)\n",
      "(7, 7, 6, 6)\n",
      "(7, 7, 7, 0)\n",
      "(7, 7, 7, 1)\n",
      "(7, 7, 7, 2)\n",
      "(7, 7, 7, 3)\n",
      "(7, 7, 7, 4)\n",
      "(7, 7, 7, 5)\n",
      "(7, 7, 7, 6)\n",
      "(7, 7, 7, 7)\n",
      "(8, 0, 0, 0)\n",
      "(8, 1, 0, 0)\n",
      "(8, 1, 1, 0)\n",
      "(8, 1, 1, 1)\n",
      "(8, 2, 0, 0)\n",
      "(8, 2, 1, 0)\n",
      "(8, 2, 1, 1)\n",
      "(8, 2, 2, 0)\n",
      "(8, 2, 2, 1)\n",
      "(8, 2, 2, 2)\n",
      "(8, 3, 0, 0)\n",
      "(8, 3, 1, 0)\n",
      "(8, 3, 1, 1)\n",
      "(8, 3, 2, 0)\n",
      "(8, 3, 2, 1)\n",
      "(8, 3, 2, 2)\n",
      "(8, 3, 3, 0)\n",
      "(8, 3, 3, 1)\n",
      "(8, 3, 3, 2)\n",
      "(8, 3, 3, 3)\n",
      "(8, 4, 0, 0)\n",
      "(8, 4, 1, 0)\n",
      "(8, 4, 1, 1)\n",
      "(8, 4, 2, 0)\n",
      "(8, 4, 2, 1)\n",
      "(8, 4, 2, 2)\n",
      "(8, 4, 3, 0)\n",
      "(8, 4, 3, 1)\n",
      "(8, 4, 3, 2)\n",
      "(8, 4, 3, 3)\n",
      "(8, 4, 4, 0)\n",
      "(8, 4, 4, 1)\n",
      "(8, 4, 4, 2)\n",
      "(8, 4, 4, 3)\n",
      "(8, 4, 4, 4)\n",
      "(8, 5, 0, 0)\n",
      "(8, 5, 1, 0)\n",
      "(8, 5, 1, 1)\n",
      "(8, 5, 2, 0)\n",
      "(8, 5, 2, 1)\n",
      "(8, 5, 2, 2)\n",
      "(8, 5, 3, 0)\n",
      "(8, 5, 3, 1)\n",
      "(8, 5, 3, 2)\n",
      "(8, 5, 3, 3)\n",
      "(8, 5, 4, 0)\n",
      "(8, 5, 4, 1)\n",
      "(8, 5, 4, 2)\n",
      "(8, 5, 4, 3)\n",
      "(8, 5, 4, 4)\n",
      "(8, 5, 5, 0)\n",
      "(8, 5, 5, 1)\n",
      "(8, 5, 5, 2)\n",
      "(8, 5, 5, 3)\n",
      "(8, 5, 5, 4)\n",
      "(8, 5, 5, 5)\n",
      "(8, 6, 0, 0)\n",
      "(8, 6, 1, 0)\n",
      "(8, 6, 1, 1)\n",
      "(8, 6, 2, 0)\n",
      "(8, 6, 2, 1)\n",
      "(8, 6, 2, 2)\n",
      "(8, 6, 3, 0)\n",
      "(8, 6, 3, 1)\n",
      "(8, 6, 3, 2)\n",
      "(8, 6, 3, 3)\n",
      "(8, 6, 4, 0)\n",
      "(8, 6, 4, 1)\n",
      "(8, 6, 4, 2)\n",
      "(8, 6, 4, 3)\n",
      "(8, 6, 4, 4)\n",
      "(8, 6, 5, 0)\n",
      "(8, 6, 5, 1)\n",
      "(8, 6, 5, 2)\n",
      "(8, 6, 5, 3)\n",
      "(8, 6, 5, 4)\n",
      "(8, 6, 5, 5)\n",
      "(8, 6, 6, 0)\n",
      "(8, 6, 6, 1)\n",
      "(8, 6, 6, 2)\n",
      "(8, 6, 6, 3)\n",
      "(8, 6, 6, 4)\n",
      "(8, 6, 6, 5)\n",
      "(8, 6, 6, 6)\n",
      "(8, 7, 0, 0)\n",
      "(8, 7, 1, 0)\n",
      "(8, 7, 1, 1)\n",
      "(8, 7, 2, 0)\n",
      "(8, 7, 2, 1)\n",
      "(8, 7, 2, 2)\n",
      "(8, 7, 3, 0)\n",
      "(8, 7, 3, 1)\n",
      "(8, 7, 3, 2)\n",
      "(8, 7, 3, 3)\n",
      "(8, 7, 4, 0)\n",
      "(8, 7, 4, 1)\n",
      "(8, 7, 4, 2)\n",
      "(8, 7, 4, 3)\n",
      "(8, 7, 4, 4)\n",
      "(8, 7, 5, 0)\n",
      "(8, 7, 5, 1)\n",
      "(8, 7, 5, 2)\n",
      "(8, 7, 5, 3)\n",
      "(8, 7, 5, 4)\n",
      "(8, 7, 5, 5)\n",
      "(8, 7, 6, 0)\n",
      "(8, 7, 6, 1)\n",
      "(8, 7, 6, 2)\n",
      "(8, 7, 6, 3)\n",
      "(8, 7, 6, 4)\n",
      "(8, 7, 6, 5)\n",
      "(8, 7, 6, 6)\n",
      "(8, 7, 7, 0)\n",
      "(8, 7, 7, 1)\n",
      "(8, 7, 7, 2)\n",
      "(8, 7, 7, 3)\n",
      "(8, 7, 7, 4)\n",
      "(8, 7, 7, 5)\n",
      "(8, 7, 7, 6)\n",
      "(8, 7, 7, 7)\n",
      "(8, 8, 0, 0)\n",
      "(8, 8, 1, 0)\n",
      "(8, 8, 1, 1)\n",
      "(8, 8, 2, 0)\n",
      "(8, 8, 2, 1)\n",
      "(8, 8, 2, 2)\n",
      "(8, 8, 3, 0)\n",
      "(8, 8, 3, 1)\n",
      "(8, 8, 3, 2)\n",
      "(8, 8, 3, 3)\n",
      "(8, 8, 4, 0)\n",
      "(8, 8, 4, 1)\n",
      "(8, 8, 4, 2)\n",
      "(8, 8, 4, 3)\n",
      "(8, 8, 4, 4)\n",
      "(8, 8, 5, 0)\n",
      "(8, 8, 5, 1)\n",
      "(8, 8, 5, 2)\n",
      "(8, 8, 5, 3)\n",
      "(8, 8, 5, 4)\n",
      "(8, 8, 5, 5)\n",
      "(8, 8, 6, 0)\n",
      "(8, 8, 6, 1)\n",
      "(8, 8, 6, 2)\n",
      "(8, 8, 6, 3)\n",
      "(8, 8, 6, 4)\n",
      "(8, 8, 6, 5)\n",
      "(8, 8, 6, 6)\n",
      "(8, 8, 7, 0)\n",
      "(8, 8, 7, 1)\n",
      "(8, 8, 7, 2)\n",
      "(8, 8, 7, 3)\n",
      "(8, 8, 7, 4)\n",
      "(8, 8, 7, 5)\n",
      "(8, 8, 7, 6)\n",
      "(8, 8, 7, 7)\n",
      "(8, 8, 8, 0)\n",
      "(8, 8, 8, 1)\n",
      "(8, 8, 8, 2)\n",
      "(8, 8, 8, 3)\n",
      "(8, 8, 8, 4)\n",
      "(8, 8, 8, 5)\n",
      "(8, 8, 8, 6)\n",
      "(8, 8, 8, 7)\n",
      "(8, 8, 8, 8)\n",
      "(9, 0, 0, 0)\n",
      "(9, 1, 0, 0)\n",
      "(9, 1, 1, 0)\n",
      "(9, 1, 1, 1)\n",
      "(9, 2, 0, 0)\n",
      "(9, 2, 1, 0)\n",
      "(9, 2, 1, 1)\n",
      "(9, 2, 2, 0)\n",
      "(9, 2, 2, 1)\n",
      "(9, 2, 2, 2)\n",
      "(9, 3, 0, 0)\n",
      "(9, 3, 1, 0)\n",
      "(9, 3, 1, 1)\n",
      "(9, 3, 2, 0)\n",
      "(9, 3, 2, 1)\n",
      "(9, 3, 2, 2)\n",
      "(9, 3, 3, 0)\n",
      "(9, 3, 3, 1)\n",
      "(9, 3, 3, 2)\n",
      "(9, 3, 3, 3)\n",
      "(9, 4, 0, 0)\n",
      "(9, 4, 1, 0)\n",
      "(9, 4, 1, 1)\n",
      "(9, 4, 2, 0)\n",
      "(9, 4, 2, 1)\n",
      "(9, 4, 2, 2)\n",
      "(9, 4, 3, 0)\n",
      "(9, 4, 3, 1)\n",
      "(9, 4, 3, 2)\n",
      "(9, 4, 3, 3)\n",
      "(9, 4, 4, 0)\n",
      "(9, 4, 4, 1)\n",
      "(9, 4, 4, 2)\n",
      "(9, 4, 4, 3)\n",
      "(9, 4, 4, 4)\n",
      "(9, 5, 0, 0)\n",
      "(9, 5, 1, 0)\n",
      "(9, 5, 1, 1)\n",
      "(9, 5, 2, 0)\n",
      "(9, 5, 2, 1)\n",
      "(9, 5, 2, 2)\n",
      "(9, 5, 3, 0)\n",
      "(9, 5, 3, 1)\n",
      "(9, 5, 3, 2)\n",
      "(9, 5, 3, 3)\n",
      "(9, 5, 4, 0)\n",
      "(9, 5, 4, 1)\n",
      "(9, 5, 4, 2)\n",
      "(9, 5, 4, 3)\n",
      "(9, 5, 4, 4)\n",
      "(9, 5, 5, 0)\n",
      "(9, 5, 5, 1)\n",
      "(9, 5, 5, 2)\n",
      "(9, 5, 5, 3)\n",
      "(9, 5, 5, 4)\n",
      "(9, 5, 5, 5)\n",
      "(9, 6, 0, 0)\n",
      "(9, 6, 1, 0)\n",
      "(9, 6, 1, 1)\n",
      "(9, 6, 2, 0)\n",
      "(9, 6, 2, 1)\n",
      "(9, 6, 2, 2)\n",
      "(9, 6, 3, 0)\n",
      "(9, 6, 3, 1)\n",
      "(9, 6, 3, 2)\n",
      "(9, 6, 3, 3)\n",
      "(9, 6, 4, 0)\n",
      "(9, 6, 4, 1)\n",
      "(9, 6, 4, 2)\n",
      "(9, 6, 4, 3)\n",
      "(9, 6, 4, 4)\n",
      "(9, 6, 5, 0)\n",
      "(9, 6, 5, 1)\n",
      "(9, 6, 5, 2)\n",
      "(9, 6, 5, 3)\n",
      "(9, 6, 5, 4)\n",
      "(9, 6, 5, 5)\n",
      "(9, 6, 6, 0)\n",
      "(9, 6, 6, 1)\n",
      "(9, 6, 6, 2)\n",
      "(9, 6, 6, 3)\n",
      "(9, 6, 6, 4)\n",
      "(9, 6, 6, 5)\n",
      "(9, 6, 6, 6)\n",
      "(9, 7, 0, 0)\n",
      "(9, 7, 1, 0)\n",
      "(9, 7, 1, 1)\n",
      "(9, 7, 2, 0)\n",
      "(9, 7, 2, 1)\n",
      "(9, 7, 2, 2)\n",
      "(9, 7, 3, 0)\n",
      "(9, 7, 3, 1)\n",
      "(9, 7, 3, 2)\n",
      "(9, 7, 3, 3)\n",
      "(9, 7, 4, 0)\n",
      "(9, 7, 4, 1)\n",
      "(9, 7, 4, 2)\n",
      "(9, 7, 4, 3)\n",
      "(9, 7, 4, 4)\n",
      "(9, 7, 5, 0)\n",
      "(9, 7, 5, 1)\n",
      "(9, 7, 5, 2)\n",
      "(9, 7, 5, 3)\n",
      "(9, 7, 5, 4)\n",
      "(9, 7, 5, 5)\n",
      "(9, 7, 6, 0)\n",
      "(9, 7, 6, 1)\n",
      "(9, 7, 6, 2)\n",
      "(9, 7, 6, 3)\n",
      "(9, 7, 6, 4)\n",
      "(9, 7, 6, 5)\n",
      "(9, 7, 6, 6)\n",
      "(9, 7, 7, 0)\n",
      "(9, 7, 7, 1)\n",
      "(9, 7, 7, 2)\n",
      "(9, 7, 7, 3)\n",
      "(9, 7, 7, 4)\n",
      "(9, 7, 7, 5)\n",
      "(9, 7, 7, 6)\n",
      "(9, 7, 7, 7)\n",
      "(9, 8, 0, 0)\n",
      "(9, 8, 1, 0)\n",
      "(9, 8, 1, 1)\n",
      "(9, 8, 2, 0)\n",
      "(9, 8, 2, 1)\n",
      "(9, 8, 2, 2)\n",
      "(9, 8, 3, 0)\n",
      "(9, 8, 3, 1)\n",
      "(9, 8, 3, 2)\n",
      "(9, 8, 3, 3)\n",
      "(9, 8, 4, 0)\n",
      "(9, 8, 4, 1)\n",
      "(9, 8, 4, 2)\n",
      "(9, 8, 4, 3)\n",
      "(9, 8, 4, 4)\n",
      "(9, 8, 5, 0)\n",
      "(9, 8, 5, 1)\n",
      "(9, 8, 5, 2)\n",
      "(9, 8, 5, 3)\n",
      "(9, 8, 5, 4)\n",
      "(9, 8, 5, 5)\n",
      "(9, 8, 6, 0)\n",
      "(9, 8, 6, 1)\n",
      "(9, 8, 6, 2)\n",
      "(9, 8, 6, 3)\n",
      "(9, 8, 6, 4)\n",
      "(9, 8, 6, 5)\n",
      "(9, 8, 6, 6)\n",
      "(9, 8, 7, 0)\n",
      "(9, 8, 7, 1)\n",
      "(9, 8, 7, 2)\n",
      "(9, 8, 7, 3)\n",
      "(9, 8, 7, 4)\n",
      "(9, 8, 7, 5)\n",
      "(9, 8, 7, 6)\n",
      "(9, 8, 7, 7)\n",
      "(9, 8, 8, 0)\n",
      "(9, 8, 8, 1)\n",
      "(9, 8, 8, 2)\n",
      "(9, 8, 8, 3)\n",
      "(9, 8, 8, 4)\n",
      "(9, 8, 8, 5)\n",
      "(9, 8, 8, 6)\n",
      "(9, 8, 8, 7)\n",
      "(9, 8, 8, 8)\n",
      "(9, 9, 0, 0)\n",
      "(9, 9, 1, 0)\n",
      "(9, 9, 1, 1)\n",
      "(9, 9, 2, 0)\n",
      "(9, 9, 2, 1)\n",
      "(9, 9, 2, 2)\n",
      "(9, 9, 3, 0)\n",
      "(9, 9, 3, 1)\n",
      "(9, 9, 3, 2)\n",
      "(9, 9, 3, 3)\n",
      "(9, 9, 4, 0)\n",
      "(9, 9, 4, 1)\n",
      "(9, 9, 4, 2)\n",
      "(9, 9, 4, 3)\n",
      "(9, 9, 4, 4)\n",
      "(9, 9, 5, 0)\n",
      "(9, 9, 5, 1)\n",
      "(9, 9, 5, 2)\n",
      "(9, 9, 5, 3)\n",
      "(9, 9, 5, 4)\n",
      "(9, 9, 5, 5)\n",
      "(9, 9, 6, 0)\n",
      "(9, 9, 6, 1)\n",
      "(9, 9, 6, 2)\n",
      "(9, 9, 6, 3)\n",
      "(9, 9, 6, 4)\n",
      "(9, 9, 6, 5)\n",
      "(9, 9, 6, 6)\n",
      "(9, 9, 7, 0)\n",
      "(9, 9, 7, 1)\n",
      "(9, 9, 7, 2)\n",
      "(9, 9, 7, 3)\n",
      "(9, 9, 7, 4)\n",
      "(9, 9, 7, 5)\n",
      "(9, 9, 7, 6)\n",
      "(9, 9, 7, 7)\n",
      "(9, 9, 8, 0)\n",
      "(9, 9, 8, 1)\n",
      "(9, 9, 8, 2)\n",
      "(9, 9, 8, 3)\n",
      "(9, 9, 8, 4)\n",
      "(9, 9, 8, 5)\n",
      "(9, 9, 8, 6)\n",
      "(9, 9, 8, 7)\n",
      "(9, 9, 8, 8)\n",
      "(9, 9, 9, 0)\n",
      "(9, 9, 9, 1)\n",
      "(9, 9, 9, 2)\n",
      "(9, 9, 9, 3)\n",
      "(9, 9, 9, 4)\n",
      "(9, 9, 9, 5)\n",
      "(9, 9, 9, 6)\n",
      "(9, 9, 9, 7)\n",
      "(9, 9, 9, 8)\n",
      "(9, 9, 9, 9)\n",
      "The total number of digits that every digit is not increasing from the previous = 715\n"
     ]
    }
   ],
   "source": [
    "c = 0\n",
    "for d in it.product(range(10), repeat = 4):\n",
    "    if d[0] >= d[1] and d[1] >= d[2] and d[2] >= d[3]:\n",
    "        print(d)\n",
    "        c += 1\n",
    "print(f'The total number of digits that every digit is not increasing from the previous = {c}')"
   ]
  },
  {
   "cell_type": "code",
   "execution_count": 82,
   "metadata": {},
   "outputs": [
    {
     "data": {
      "text/plain": [
       "715.0"
      ]
     },
     "execution_count": 82,
     "metadata": {},
     "output_type": "execute_result"
    }
   ],
   "source": [
    "nck(13, 9)"
   ]
  },
  {
   "cell_type": "code",
   "execution_count": 83,
   "metadata": {},
   "outputs": [
    {
     "data": {
      "text/plain": [
       "715"
      ]
     },
     "execution_count": 83,
     "metadata": {},
     "output_type": "execute_result"
    }
   ],
   "source": [
    "c = 0\n",
    "for d in combinations_with_replacement(\"0123456789\", 4):\n",
    "    c += 1\n",
    "    \n",
    "c"
   ]
  },
  {
   "cell_type": "code",
   "execution_count": 84,
   "metadata": {},
   "outputs": [
    {
     "data": {
      "text/plain": [
       "10395.0"
      ]
     },
     "execution_count": 84,
     "metadata": {},
     "output_type": "execute_result"
    }
   ],
   "source": [
    "nck(12, 2) * nck(10, 2) * nck(8, 2) * nck(6, 2) * nck(4, 2) * nck(2, 2) * (1/F(6))"
   ]
  },
  {
   "cell_type": "code",
   "execution_count": 85,
   "metadata": {},
   "outputs": [
    {
     "data": {
      "text/plain": [
       "10395.0"
      ]
     },
     "execution_count": 85,
     "metadata": {},
     "output_type": "execute_result"
    }
   ],
   "source": [
    "F(12)/(F(6) * 2**6)"
   ]
  },
  {
   "cell_type": "code",
   "execution_count": 86,
   "metadata": {},
   "outputs": [
    {
     "data": {
      "text/plain": [
       "56.0"
      ]
     },
     "execution_count": 86,
     "metadata": {},
     "output_type": "execute_result"
    }
   ],
   "source": [
    "nck(8, 3)"
   ]
  },
  {
   "cell_type": "code",
   "execution_count": 87,
   "metadata": {},
   "outputs": [
    {
     "data": {
      "text/plain": [
       "560.0"
      ]
     },
     "execution_count": 87,
     "metadata": {},
     "output_type": "execute_result"
    }
   ],
   "source": [
    "nck(8, 3) * nck(5, 2)"
   ]
  },
  {
   "cell_type": "code",
   "execution_count": 88,
   "metadata": {},
   "outputs": [
    {
     "data": {
      "text/plain": [
       "7059052.0"
      ]
     },
     "execution_count": 88,
     "metadata": {},
     "output_type": "execute_result"
    }
   ],
   "source": [
    "nck(44, 6)"
   ]
  },
  {
   "cell_type": "code",
   "execution_count": 89,
   "metadata": {},
   "outputs": [
    {
     "data": {
      "text/plain": [
       "15.0"
      ]
     },
     "execution_count": 89,
     "metadata": {},
     "output_type": "execute_result"
    }
   ],
   "source": [
    "nck(6, 4)"
   ]
  },
  {
   "cell_type": "code",
   "execution_count": 90,
   "metadata": {},
   "outputs": [
    {
     "data": {
      "text/plain": [
       "703.0"
      ]
     },
     "execution_count": 90,
     "metadata": {},
     "output_type": "execute_result"
    }
   ],
   "source": [
    "nck(38, 2)"
   ]
  },
  {
   "cell_type": "code",
   "execution_count": 91,
   "metadata": {},
   "outputs": [
    {
     "data": {
      "text/plain": [
       "10545"
      ]
     },
     "execution_count": 91,
     "metadata": {},
     "output_type": "execute_result"
    }
   ],
   "source": [
    "703 * 15"
   ]
  },
  {
   "cell_type": "code",
   "execution_count": null,
   "metadata": {},
   "outputs": [],
   "source": []
  }
 ],
 "metadata": {
  "kernelspec": {
   "display_name": "Python 3",
   "language": "python",
   "name": "python3"
  },
  "language_info": {
   "codemirror_mode": {
    "name": "ipython",
    "version": 3
   },
   "file_extension": ".py",
   "mimetype": "text/x-python",
   "name": "python",
   "nbconvert_exporter": "python",
   "pygments_lexer": "ipython3",
   "version": "3.6.10"
  }
 },
 "nbformat": 4,
 "nbformat_minor": 4
}
