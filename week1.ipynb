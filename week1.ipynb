{
 "cells": [
  {
   "cell_type": "code",
   "execution_count": 1,
   "metadata": {},
   "outputs": [],
   "source": [
    "import math"
   ]
  },
  {
   "cell_type": "code",
   "execution_count": 2,
   "metadata": {},
   "outputs": [
    {
     "data": {
      "text/plain": [
       "120"
      ]
     },
     "execution_count": 2,
     "metadata": {},
     "output_type": "execute_result"
    }
   ],
   "source": [
    "math.factorial(5)"
   ]
  },
  {
   "cell_type": "code",
   "execution_count": 3,
   "metadata": {},
   "outputs": [
    {
     "data": {
      "text/plain": [
       "120"
      ]
     },
     "execution_count": 3,
     "metadata": {},
     "output_type": "execute_result"
    }
   ],
   "source": [
    "5 * 4 * 3 * 2"
   ]
  },
  {
   "cell_type": "code",
   "execution_count": 4,
   "metadata": {},
   "outputs": [],
   "source": [
    "from math import factorial as F"
   ]
  },
  {
   "cell_type": "code",
   "execution_count": 5,
   "metadata": {},
   "outputs": [
    {
     "data": {
      "text/plain": [
       "24"
      ]
     },
     "execution_count": 5,
     "metadata": {},
     "output_type": "execute_result"
    }
   ],
   "source": [
    "F(4)"
   ]
  },
  {
   "cell_type": "code",
   "execution_count": 6,
   "metadata": {},
   "outputs": [
    {
     "data": {
      "text/plain": [
       "2"
      ]
     },
     "execution_count": 6,
     "metadata": {},
     "output_type": "execute_result"
    }
   ],
   "source": [
    "F(2)"
   ]
  },
  {
   "cell_type": "code",
   "execution_count": 7,
   "metadata": {},
   "outputs": [
    {
     "data": {
      "text/plain": [
       "972"
      ]
     },
     "execution_count": 7,
     "metadata": {},
     "output_type": "execute_result"
    }
   ],
   "source": [
    "4 * 3 * 9 * 9"
   ]
  },
  {
   "cell_type": "code",
   "execution_count": 8,
   "metadata": {},
   "outputs": [
    {
     "data": {
      "text/plain": [
       "768"
      ]
     },
     "execution_count": 8,
     "metadata": {},
     "output_type": "execute_result"
    }
   ],
   "source": [
    "4 * 3 * 8 * 8\n"
   ]
  },
  {
   "cell_type": "code",
   "execution_count": 9,
   "metadata": {},
   "outputs": [
    {
     "name": "stdout",
     "output_type": "stream",
     "text": [
      "56\n"
     ]
    }
   ],
   "source": [
    "n=8\n",
    "count = 0\n",
    "\n",
    "for i in range(n):\n",
    "    for j in range(n):\n",
    "        for k in range(n):\n",
    "            if i < j and j < k:\n",
    "                count += 1\n",
    "\n",
    "print(count)"
   ]
  },
  {
   "cell_type": "code",
   "execution_count": 10,
   "metadata": {},
   "outputs": [
    {
     "data": {
      "text/plain": [
       "64"
      ]
     },
     "execution_count": 10,
     "metadata": {},
     "output_type": "execute_result"
    }
   ],
   "source": [
    "8 * 8"
   ]
  },
  {
   "cell_type": "code",
   "execution_count": 11,
   "metadata": {},
   "outputs": [
    {
     "data": {
      "text/plain": [
       "56"
      ]
     },
     "execution_count": 11,
     "metadata": {},
     "output_type": "execute_result"
    }
   ],
   "source": [
    "8 * 7"
   ]
  },
  {
   "cell_type": "code",
   "execution_count": 12,
   "metadata": {},
   "outputs": [
    {
     "data": {
      "text/plain": [
       "8.0"
      ]
     },
     "execution_count": 12,
     "metadata": {},
     "output_type": "execute_result"
    }
   ],
   "source": [
    "F(8) / (F(7))"
   ]
  },
  {
   "cell_type": "code",
   "execution_count": 13,
   "metadata": {},
   "outputs": [
    {
     "data": {
      "text/plain": [
       "56.0"
      ]
     },
     "execution_count": 13,
     "metadata": {},
     "output_type": "execute_result"
    }
   ],
   "source": [
    "F(8) / (F(3)*F(5))"
   ]
  },
  {
   "cell_type": "code",
   "execution_count": 14,
   "metadata": {},
   "outputs": [
    {
     "name": "stdout",
     "output_type": "stream",
     "text": [
      "0 1 2\n",
      "0 1 3\n",
      "0 1 4\n",
      "0 1 5\n",
      "0 1 6\n",
      "0 1 7\n",
      "0 2 3\n",
      "0 2 4\n",
      "0 2 5\n",
      "0 2 6\n",
      "0 2 7\n",
      "0 3 4\n",
      "0 3 5\n",
      "0 3 6\n",
      "0 3 7\n",
      "0 4 5\n",
      "0 4 6\n",
      "0 4 7\n",
      "0 5 6\n",
      "0 5 7\n",
      "0 6 7\n",
      "1 2 3\n",
      "1 2 4\n",
      "1 2 5\n",
      "1 2 6\n",
      "1 2 7\n",
      "1 3 4\n",
      "1 3 5\n",
      "1 3 6\n",
      "1 3 7\n",
      "1 4 5\n",
      "1 4 6\n",
      "1 4 7\n",
      "1 5 6\n",
      "1 5 7\n",
      "1 6 7\n",
      "2 3 4\n",
      "2 3 5\n",
      "2 3 6\n",
      "2 3 7\n",
      "2 4 5\n",
      "2 4 6\n",
      "2 4 7\n",
      "2 5 6\n",
      "2 5 7\n",
      "2 6 7\n",
      "3 4 5\n",
      "3 4 6\n",
      "3 4 7\n",
      "3 5 6\n",
      "3 5 7\n",
      "3 6 7\n",
      "4 5 6\n",
      "4 5 7\n",
      "4 6 7\n",
      "5 6 7\n",
      "56\n"
     ]
    }
   ],
   "source": [
    "n=8\n",
    "count = 0\n",
    "\n",
    "for i in range(n):\n",
    "    for j in range(n):\n",
    "        for k in range(n):\n",
    "            if i < j and j < k:\n",
    "                count += 1\n",
    "                print(i, j, k)\n",
    "\n",
    "print(count)"
   ]
  },
  {
   "cell_type": "code",
   "execution_count": 15,
   "metadata": {},
   "outputs": [
    {
     "data": {
      "text/plain": [
       "479001600"
      ]
     },
     "execution_count": 15,
     "metadata": {},
     "output_type": "execute_result"
    }
   ],
   "source": [
    "F(12)"
   ]
  },
  {
   "cell_type": "code",
   "execution_count": 16,
   "metadata": {},
   "outputs": [
    {
     "data": {
      "text/plain": [
       "720"
      ]
     },
     "execution_count": 16,
     "metadata": {},
     "output_type": "execute_result"
    }
   ],
   "source": [
    "F(6)"
   ]
  },
  {
   "cell_type": "code",
   "execution_count": 17,
   "metadata": {},
   "outputs": [
    {
     "data": {
      "text/plain": [
       "924.0"
      ]
     },
     "execution_count": 17,
     "metadata": {},
     "output_type": "execute_result"
    }
   ],
   "source": [
    "F(12) / (F(6) * F(6))"
   ]
  },
  {
   "cell_type": "code",
   "execution_count": 18,
   "metadata": {},
   "outputs": [
    {
     "data": {
      "text/plain": [
       "462.0"
      ]
     },
     "execution_count": 18,
     "metadata": {},
     "output_type": "execute_result"
    }
   ],
   "source": [
    "924/2"
   ]
  },
  {
   "cell_type": "code",
   "execution_count": 19,
   "metadata": {},
   "outputs": [],
   "source": [
    "C = dict()"
   ]
  },
  {
   "cell_type": "code",
   "execution_count": 20,
   "metadata": {},
   "outputs": [],
   "source": [
    "for n in range(8):\n",
    "    C[n, 0] = 1\n",
    "    C[n, n] = 1\n",
    "    \n",
    "    for k in range(1, n):\n",
    "        C[n, k] = C[n - 1, k - 1] + C[n - 1 , k]"
   ]
  },
  {
   "cell_type": "code",
   "execution_count": 21,
   "metadata": {},
   "outputs": [
    {
     "name": "stdout",
     "output_type": "stream",
     "text": [
      "{(0, 0): 1, (1, 0): 1, (1, 1): 1, (2, 0): 1, (2, 2): 1, (2, 1): 2, (3, 0): 1, (3, 3): 1, (3, 1): 3, (3, 2): 3, (4, 0): 1, (4, 4): 1, (4, 1): 4, (4, 2): 6, (4, 3): 4, (5, 0): 1, (5, 5): 1, (5, 1): 5, (5, 2): 10, (5, 3): 10, (5, 4): 5, (6, 0): 1, (6, 6): 1, (6, 1): 6, (6, 2): 15, (6, 3): 20, (6, 4): 15, (6, 5): 6, (7, 0): 1, (7, 7): 1, (7, 1): 7, (7, 2): 21, (7, 3): 35, (7, 4): 35, (7, 5): 21, (7, 6): 7}\n"
     ]
    }
   ],
   "source": [
    "print(C)"
   ]
  },
  {
   "cell_type": "code",
   "execution_count": 22,
   "metadata": {},
   "outputs": [
    {
     "name": "stdout",
     "output_type": "stream",
     "text": [
      "21\n"
     ]
    }
   ],
   "source": [
    "print(C[7, 2])"
   ]
  },
  {
   "cell_type": "code",
   "execution_count": 23,
   "metadata": {},
   "outputs": [
    {
     "data": {
      "text/plain": [
       "35.0"
      ]
     },
     "execution_count": 23,
     "metadata": {},
     "output_type": "execute_result"
    }
   ],
   "source": [
    "F(7) / (F(4) * F(3))"
   ]
  },
  {
   "cell_type": "code",
   "execution_count": 24,
   "metadata": {},
   "outputs": [
    {
     "data": {
      "text/plain": [
       "21.0"
      ]
     },
     "execution_count": 24,
     "metadata": {},
     "output_type": "execute_result"
    }
   ],
   "source": [
    "F(7) / (F(2) * F(5))"
   ]
  },
  {
   "cell_type": "code",
   "execution_count": 25,
   "metadata": {},
   "outputs": [],
   "source": [
    "def nck(n , k):\n",
    "    return F(n) / (F(k) * F(n-k))"
   ]
  },
  {
   "cell_type": "code",
   "execution_count": 26,
   "metadata": {},
   "outputs": [
    {
     "data": {
      "text/plain": [
       "70.0"
      ]
     },
     "execution_count": 26,
     "metadata": {},
     "output_type": "execute_result"
    }
   ],
   "source": [
    "nck(8, 4)"
   ]
  },
  {
   "cell_type": "code",
   "execution_count": 27,
   "metadata": {},
   "outputs": [
    {
     "data": {
      "text/plain": [
       "8.0"
      ]
     },
     "execution_count": 27,
     "metadata": {},
     "output_type": "execute_result"
    }
   ],
   "source": [
    "nck(8, 7)"
   ]
  },
  {
   "cell_type": "code",
   "execution_count": 28,
   "metadata": {},
   "outputs": [],
   "source": [
    "def nck2(n , k):\n",
    "    return (n/k) * (nck(n-1, k-1))"
   ]
  },
  {
   "cell_type": "code",
   "execution_count": 29,
   "metadata": {},
   "outputs": [
    {
     "data": {
      "text/plain": [
       "8.0"
      ]
     },
     "execution_count": 29,
     "metadata": {},
     "output_type": "execute_result"
    }
   ],
   "source": [
    "nck2(8, 7)"
   ]
  },
  {
   "cell_type": "code",
   "execution_count": 30,
   "metadata": {},
   "outputs": [],
   "source": [
    "def nck3(n, k):\n",
    "    return nck(n, n-k)"
   ]
  },
  {
   "cell_type": "code",
   "execution_count": 31,
   "metadata": {},
   "outputs": [
    {
     "data": {
      "text/plain": [
       "8.0"
      ]
     },
     "execution_count": 31,
     "metadata": {},
     "output_type": "execute_result"
    }
   ],
   "source": [
    "nck3(8, 7)"
   ]
  },
  {
   "cell_type": "code",
   "execution_count": 32,
   "metadata": {},
   "outputs": [
    {
     "data": {
      "text/plain": [
       "8.0"
      ]
     },
     "execution_count": 32,
     "metadata": {},
     "output_type": "execute_result"
    }
   ],
   "source": [
    "nck(8, 7)"
   ]
  },
  {
   "cell_type": "code",
   "execution_count": 33,
   "metadata": {},
   "outputs": [
    {
     "data": {
      "text/plain": [
       "8.0"
      ]
     },
     "execution_count": 33,
     "metadata": {},
     "output_type": "execute_result"
    }
   ],
   "source": [
    "nck(8, 1)"
   ]
  },
  {
   "cell_type": "code",
   "execution_count": 34,
   "metadata": {},
   "outputs": [
    {
     "data": {
      "text/plain": [
       "35.0"
      ]
     },
     "execution_count": 34,
     "metadata": {},
     "output_type": "execute_result"
    }
   ],
   "source": [
    "nck(7, 4)"
   ]
  },
  {
   "cell_type": "code",
   "execution_count": 35,
   "metadata": {},
   "outputs": [
    {
     "data": {
      "text/plain": [
       "35.0"
      ]
     },
     "execution_count": 35,
     "metadata": {},
     "output_type": "execute_result"
    }
   ],
   "source": [
    "nck(7, 3)"
   ]
  },
  {
   "cell_type": "code",
   "execution_count": 36,
   "metadata": {},
   "outputs": [
    {
     "data": {
      "text/plain": [
       "True"
      ]
     },
     "execution_count": 36,
     "metadata": {},
     "output_type": "execute_result"
    }
   ],
   "source": [
    "nck(121, 76) > nck(120, 75)"
   ]
  },
  {
   "cell_type": "code",
   "execution_count": 37,
   "metadata": {},
   "outputs": [],
   "source": [
    "def nck4(n, k):\n",
    "    return nck(n-1, k-1) + nck(n-1, k)"
   ]
  },
  {
   "cell_type": "code",
   "execution_count": 38,
   "metadata": {},
   "outputs": [
    {
     "data": {
      "text/plain": [
       "35.0"
      ]
     },
     "execution_count": 38,
     "metadata": {},
     "output_type": "execute_result"
    }
   ],
   "source": [
    "nck4(7, 4)"
   ]
  },
  {
   "cell_type": "code",
   "execution_count": 39,
   "metadata": {},
   "outputs": [],
   "source": [
    "s = 0\n",
    "n = 5\n",
    "for i in range(0, n + 1):\n",
    "    s += nck(n, i)\n",
    "    "
   ]
  },
  {
   "cell_type": "code",
   "execution_count": 40,
   "metadata": {},
   "outputs": [
    {
     "data": {
      "text/plain": [
       "32"
      ]
     },
     "execution_count": 40,
     "metadata": {},
     "output_type": "execute_result"
    }
   ],
   "source": [
    "2 ** n"
   ]
  },
  {
   "cell_type": "code",
   "execution_count": 41,
   "metadata": {},
   "outputs": [
    {
     "data": {
      "text/plain": [
       "32.0"
      ]
     },
     "execution_count": 41,
     "metadata": {},
     "output_type": "execute_result"
    }
   ],
   "source": [
    "s"
   ]
  },
  {
   "cell_type": "code",
   "execution_count": 42,
   "metadata": {},
   "outputs": [
    {
     "name": "stdout",
     "output_type": "stream",
     "text": [
      "0 1 1\n",
      "1 2 3\n",
      "2 4 7\n",
      "3 8 15\n",
      "4 16 31\n",
      "5 32 63\n",
      "63\n"
     ]
    }
   ],
   "source": [
    "m = 0\n",
    "for i in range(0, 6):\n",
    "    m += 2 ** i\n",
    "    print(i, 2 ** i , m)\n",
    "print(m)"
   ]
  },
  {
   "cell_type": "code",
   "execution_count": 43,
   "metadata": {},
   "outputs": [
    {
     "data": {
      "text/plain": [
       "126"
      ]
     },
     "execution_count": 43,
     "metadata": {},
     "output_type": "execute_result"
    }
   ],
   "source": [
    "62 + 64"
   ]
  },
  {
   "cell_type": "code",
   "execution_count": 44,
   "metadata": {},
   "outputs": [
    {
     "data": {
      "text/plain": [
       "16.0"
      ]
     },
     "execution_count": 44,
     "metadata": {},
     "output_type": "execute_result"
    }
   ],
   "source": [
    "nck(5, 3) + nck(5, 4) + nck(5, 5)"
   ]
  },
  {
   "cell_type": "code",
   "execution_count": 45,
   "metadata": {},
   "outputs": [
    {
     "data": {
      "text/plain": [
       "2598960.0"
      ]
     },
     "execution_count": 45,
     "metadata": {},
     "output_type": "execute_result"
    }
   ],
   "source": [
    "nck(52, 5)"
   ]
  },
  {
   "cell_type": "code",
   "execution_count": 46,
   "metadata": {},
   "outputs": [
    {
     "data": {
      "text/plain": [
       "8.0"
      ]
     },
     "execution_count": 46,
     "metadata": {},
     "output_type": "execute_result"
    }
   ],
   "source": [
    "nck(8, 1)"
   ]
  },
  {
   "cell_type": "code",
   "execution_count": 47,
   "metadata": {},
   "outputs": [
    {
     "data": {
      "text/plain": [
       "78.0"
      ]
     },
     "execution_count": 47,
     "metadata": {},
     "output_type": "execute_result"
    }
   ],
   "source": [
    "nck(13, 2)"
   ]
  },
  {
   "cell_type": "code",
   "execution_count": 48,
   "metadata": {},
   "outputs": [
    {
     "data": {
      "text/plain": [
       "286.0"
      ]
     },
     "execution_count": 48,
     "metadata": {},
     "output_type": "execute_result"
    }
   ],
   "source": [
    "nck(13, 3)"
   ]
  },
  {
   "cell_type": "code",
   "execution_count": 49,
   "metadata": {},
   "outputs": [
    {
     "data": {
      "text/plain": [
       "65780.0"
      ]
     },
     "execution_count": 49,
     "metadata": {},
     "output_type": "execute_result"
    }
   ],
   "source": [
    "nck(26, 5)"
   ]
  },
  {
   "cell_type": "code",
   "execution_count": 50,
   "metadata": {},
   "outputs": [
    {
     "data": {
      "text/plain": [
       "22308"
      ]
     },
     "execution_count": 50,
     "metadata": {},
     "output_type": "execute_result"
    }
   ],
   "source": [
    "78 * 286\n"
   ]
  },
  {
   "cell_type": "code",
   "execution_count": 51,
   "metadata": {},
   "outputs": [
    {
     "data": {
      "text/plain": [
       "11154"
      ]
     },
     "execution_count": 51,
     "metadata": {},
     "output_type": "execute_result"
    }
   ],
   "source": [
    "78 * 286 // 2"
   ]
  },
  {
   "cell_type": "code",
   "execution_count": 52,
   "metadata": {},
   "outputs": [
    {
     "data": {
      "text/plain": [
       "10000"
      ]
     },
     "execution_count": 52,
     "metadata": {},
     "output_type": "execute_result"
    }
   ],
   "source": [
    "10 ** 4"
   ]
  },
  {
   "cell_type": "code",
   "execution_count": 53,
   "metadata": {},
   "outputs": [
    {
     "data": {
      "text/plain": [
       "6561"
      ]
     },
     "execution_count": 53,
     "metadata": {},
     "output_type": "execute_result"
    }
   ],
   "source": [
    "9 ** 4"
   ]
  },
  {
   "cell_type": "code",
   "execution_count": 54,
   "metadata": {},
   "outputs": [
    {
     "data": {
      "text/plain": [
       "3439"
      ]
     },
     "execution_count": 54,
     "metadata": {},
     "output_type": "execute_result"
    }
   ],
   "source": [
    "10 ** 4 - 9 ** 4"
   ]
  },
  {
   "cell_type": "code",
   "execution_count": 55,
   "metadata": {},
   "outputs": [
    {
     "data": {
      "text/plain": [
       "9295.0"
      ]
     },
     "execution_count": 55,
     "metadata": {},
     "output_type": "execute_result"
    }
   ],
   "source": [
    "nck(13, 4) * nck(13, 1)"
   ]
  },
  {
   "cell_type": "code",
   "execution_count": 56,
   "metadata": {},
   "outputs": [
    {
     "data": {
      "text/plain": [
       "70.0"
      ]
     },
     "execution_count": 56,
     "metadata": {},
     "output_type": "execute_result"
    }
   ],
   "source": [
    "nck(8, 4)"
   ]
  },
  {
   "cell_type": "code",
   "execution_count": 57,
   "metadata": {},
   "outputs": [
    {
     "name": "stdout",
     "output_type": "stream",
     "text": [
      "256\n"
     ]
    }
   ],
   "source": [
    "# Python 3 implementation of the approach \n",
    "mod = 1000000007\n",
    "\n",
    "# Iterative Function to calculate (x^y)%p in O(log y) \n",
    "def power(x, y, p): \n",
    "\tres = 1 # Initialize result \n",
    "\n",
    "\tx = x % p # Update x if it is more than or \n",
    "\t\t\t# equal to p \n",
    "\n",
    "\twhile (y > 0): \n",
    "\t\t\n",
    "\t\t# If y is odd, multiply x with result \n",
    "\t\tif (y & 1): \n",
    "\t\t\tres = (res * x) % p \n",
    "\n",
    "\t\t# y must be even now \n",
    "\t\ty = y >> 1 # y = y/2 \n",
    "\t\tx = (x * x) % p \n",
    "\n",
    "\treturn res \n",
    "\n",
    "# Function to count the number of binary \n",
    "# strings of length N having only 0's and 1's \n",
    "def findCount(N): \n",
    "\tcount = power(2, N, mod) \n",
    "\treturn count \n",
    "\n",
    "# Driver code \n",
    "if __name__ == '__main__': \n",
    "\tN = 8\n",
    "\tprint(findCount(N)) \n",
    "\n",
    "# This code is contributed by \n",
    "# Surendra_Gangwar \n"
   ]
  },
  {
   "cell_type": "code",
   "execution_count": 58,
   "metadata": {},
   "outputs": [
    {
     "name": "stdout",
     "output_type": "stream",
     "text": [
      "0 0 0 0 1 1 1 1\n",
      "0 0 0 1 0 1 1 1\n",
      "0 0 0 1 1 0 1 1\n",
      "0 0 0 1 1 1 0 1\n",
      "0 0 0 1 1 1 1 0\n",
      "0 0 1 0 0 1 1 1\n",
      "0 0 1 0 1 0 1 1\n",
      "0 0 1 0 1 1 0 1\n",
      "0 0 1 0 1 1 1 0\n",
      "0 0 1 1 0 0 1 1\n",
      "0 0 1 1 0 1 0 1\n",
      "0 0 1 1 0 1 1 0\n",
      "0 0 1 1 1 0 0 1\n",
      "0 0 1 1 1 0 1 0\n",
      "0 0 1 1 1 1 0 0\n",
      "0 1 0 0 0 1 1 1\n",
      "0 1 0 0 1 0 1 1\n",
      "0 1 0 0 1 1 0 1\n",
      "0 1 0 0 1 1 1 0\n",
      "0 1 0 1 0 0 1 1\n",
      "0 1 0 1 0 1 0 1\n",
      "0 1 0 1 0 1 1 0\n",
      "0 1 0 1 1 0 0 1\n",
      "0 1 0 1 1 0 1 0\n",
      "0 1 0 1 1 1 0 0\n",
      "0 1 1 0 0 0 1 1\n",
      "0 1 1 0 0 1 0 1\n",
      "0 1 1 0 0 1 1 0\n",
      "0 1 1 0 1 0 0 1\n",
      "0 1 1 0 1 0 1 0\n",
      "0 1 1 0 1 1 0 0\n",
      "0 1 1 1 0 0 0 1\n",
      "0 1 1 1 0 0 1 0\n",
      "0 1 1 1 0 1 0 0\n",
      "0 1 1 1 1 0 0 0\n",
      "1 0 0 0 0 1 1 1\n",
      "1 0 0 0 1 0 1 1\n",
      "1 0 0 0 1 1 0 1\n",
      "1 0 0 0 1 1 1 0\n",
      "1 0 0 1 0 0 1 1\n",
      "1 0 0 1 0 1 0 1\n",
      "1 0 0 1 0 1 1 0\n",
      "1 0 0 1 1 0 0 1\n",
      "1 0 0 1 1 0 1 0\n",
      "1 0 0 1 1 1 0 0\n",
      "1 0 1 0 0 0 1 1\n",
      "1 0 1 0 0 1 0 1\n",
      "1 0 1 0 0 1 1 0\n",
      "1 0 1 0 1 0 0 1\n",
      "1 0 1 0 1 0 1 0\n",
      "1 0 1 0 1 1 0 0\n",
      "1 0 1 1 0 0 0 1\n",
      "1 0 1 1 0 0 1 0\n",
      "1 0 1 1 0 1 0 0\n",
      "1 0 1 1 1 0 0 0\n",
      "1 1 0 0 0 0 1 1\n",
      "1 1 0 0 0 1 0 1\n",
      "1 1 0 0 0 1 1 0\n",
      "1 1 0 0 1 0 0 1\n",
      "1 1 0 0 1 0 1 0\n",
      "1 1 0 0 1 1 0 0\n",
      "1 1 0 1 0 0 0 1\n",
      "1 1 0 1 0 0 1 0\n",
      "1 1 0 1 0 1 0 0\n",
      "1 1 0 1 1 0 0 0\n",
      "1 1 1 0 0 0 0 1\n",
      "1 1 1 0 0 0 1 0\n",
      "1 1 1 0 0 1 0 0\n",
      "1 1 1 0 1 0 0 0\n",
      "1 1 1 1 0 0 0 0\n",
      "70\n"
     ]
    }
   ],
   "source": [
    "count = 0\n",
    "for a in range(2):\n",
    "    for b in range(2):\n",
    "        for c in range(2):\n",
    "            for d in range(2):\n",
    "                for e in range(2):\n",
    "                    for f in range(2):\n",
    "                        for g in range(2):\n",
    "                            for h in range(2):\n",
    "                                if a + b + c + d + e + f + g + h == 4:\n",
    "                                    print(a, b, c, d, e, f, g, h)\n",
    "                                    count += 1\n",
    "print(count)"
   ]
  },
  {
   "cell_type": "code",
   "execution_count": 59,
   "metadata": {},
   "outputs": [
    {
     "data": {
      "text/plain": [
       "6.0"
      ]
     },
     "execution_count": 59,
     "metadata": {},
     "output_type": "execute_result"
    }
   ],
   "source": [
    "nck(4, 2)"
   ]
  },
  {
   "cell_type": "code",
   "execution_count": 60,
   "metadata": {},
   "outputs": [
    {
     "name": "stdout",
     "output_type": "stream",
     "text": [
      "aa\n",
      "ab\n",
      "ac\n",
      "ba\n",
      "bb\n",
      "bc\n",
      "ca\n",
      "cb\n",
      "cc\n"
     ]
    }
   ],
   "source": [
    "from itertools import product\n",
    "for c in product(\"abc\", repeat=2):\n",
    "  print(\"\".join(c))"
   ]
  },
  {
   "cell_type": "code",
   "execution_count": 61,
   "metadata": {},
   "outputs": [],
   "source": [
    "prod = product(\"abc\", repeat=3)"
   ]
  },
  {
   "cell_type": "code",
   "execution_count": 62,
   "metadata": {},
   "outputs": [
    {
     "data": {
      "text/plain": [
       "('a', 'a', 'a')"
      ]
     },
     "execution_count": 62,
     "metadata": {},
     "output_type": "execute_result"
    }
   ],
   "source": [
    "next(prod)"
   ]
  },
  {
   "cell_type": "code",
   "execution_count": 63,
   "metadata": {},
   "outputs": [
    {
     "data": {
      "text/plain": [
       "('a', 'a', 'b')"
      ]
     },
     "execution_count": 63,
     "metadata": {},
     "output_type": "execute_result"
    }
   ],
   "source": [
    "next(prod)"
   ]
  },
  {
   "cell_type": "code",
   "execution_count": 64,
   "metadata": {},
   "outputs": [
    {
     "data": {
      "text/plain": [
       "('a', 'a', 'c')"
      ]
     },
     "execution_count": 64,
     "metadata": {},
     "output_type": "execute_result"
    }
   ],
   "source": [
    "next(prod)"
   ]
  },
  {
   "cell_type": "code",
   "execution_count": 65,
   "metadata": {},
   "outputs": [
    {
     "data": {
      "text/plain": [
       "('a', 'b', 'a')"
      ]
     },
     "execution_count": 65,
     "metadata": {},
     "output_type": "execute_result"
    }
   ],
   "source": [
    "next(prod)"
   ]
  },
  {
   "cell_type": "code",
   "execution_count": 4,
   "metadata": {},
   "outputs": [
    {
     "name": "stdout",
     "output_type": "stream",
     "text": [
      "01\n",
      "02\n",
      "03\n",
      "04\n",
      "05\n",
      "06\n",
      "07\n",
      "08\n",
      "09\n",
      "10\n",
      "12\n",
      "13\n",
      "14\n",
      "15\n",
      "16\n",
      "17\n",
      "18\n",
      "19\n",
      "20\n",
      "21\n",
      "23\n",
      "24\n",
      "25\n",
      "26\n",
      "27\n",
      "28\n",
      "29\n",
      "30\n",
      "31\n",
      "32\n",
      "34\n",
      "35\n",
      "36\n",
      "37\n",
      "38\n",
      "39\n",
      "40\n",
      "41\n",
      "42\n",
      "43\n",
      "45\n",
      "46\n",
      "47\n",
      "48\n",
      "49\n",
      "50\n",
      "51\n",
      "52\n",
      "53\n",
      "54\n",
      "56\n",
      "57\n",
      "58\n",
      "59\n",
      "60\n",
      "61\n",
      "62\n",
      "63\n",
      "64\n",
      "65\n",
      "67\n",
      "68\n",
      "69\n",
      "70\n",
      "71\n",
      "72\n",
      "73\n",
      "74\n",
      "75\n",
      "76\n",
      "78\n",
      "79\n",
      "80\n",
      "81\n",
      "82\n",
      "83\n",
      "84\n",
      "85\n",
      "86\n",
      "87\n",
      "89\n",
      "90\n",
      "91\n",
      "92\n",
      "93\n",
      "94\n",
      "95\n",
      "96\n",
      "97\n",
      "98\n"
     ]
    }
   ],
   "source": [
    "from itertools import permutations\n",
    "for c in permutations(\"0123456789\", 2):\n",
    "  print(\"\".join(c))"
   ]
  },
  {
   "cell_type": "code",
   "execution_count": 7,
   "metadata": {},
   "outputs": [
    {
     "name": "stdout",
     "output_type": "stream",
     "text": [
      "0\n"
     ]
    }
   ],
   "source": [
    "from itertools import combinations\n",
    "i=0\n",
    "for c in combinations(\"ht\", 5):\n",
    "    print(\"\".join(c))\n",
    "    i+=1\n",
    "print(i)"
   ]
  },
  {
   "cell_type": "code",
   "execution_count": 6,
   "metadata": {},
   "outputs": [
    {
     "name": "stdout",
     "output_type": "stream",
     "text": [
      "1- 00000\n",
      "2- 00001\n",
      "3- 00011\n",
      "4- 00111\n",
      "5- 01111\n",
      "6- 11111\n"
     ]
    }
   ],
   "source": [
    "from itertools import combinations_with_replacement\n",
    "for i, c in enumerate(combinations_with_replacement(\"01\", 5)):\n",
    "  print(str(i+1) + \"- \" + \"\".join(c))"
   ]
  },
  {
   "cell_type": "code",
   "execution_count": 69,
   "metadata": {},
   "outputs": [
    {
     "data": {
      "text/plain": [
       "5040"
      ]
     },
     "execution_count": 69,
     "metadata": {},
     "output_type": "execute_result"
    }
   ],
   "source": [
    "F(7)"
   ]
  },
  {
   "cell_type": "code",
   "execution_count": 70,
   "metadata": {},
   "outputs": [
    {
     "data": {
      "text/plain": [
       "42.0"
      ]
     },
     "execution_count": 70,
     "metadata": {},
     "output_type": "execute_result"
    }
   ],
   "source": [
    "F(7) / 120"
   ]
  },
  {
   "cell_type": "code",
   "execution_count": 71,
   "metadata": {},
   "outputs": [
    {
     "data": {
      "text/plain": [
       "120"
      ]
     },
     "execution_count": 71,
     "metadata": {},
     "output_type": "execute_result"
    }
   ],
   "source": [
    "F(5)"
   ]
  },
  {
   "cell_type": "code",
   "execution_count": 72,
   "metadata": {},
   "outputs": [
    {
     "data": {
      "text/plain": [
       "84.0"
      ]
     },
     "execution_count": 72,
     "metadata": {},
     "output_type": "execute_result"
    }
   ],
   "source": [
    "nck(9, 6)"
   ]
  },
  {
   "cell_type": "code",
   "execution_count": 73,
   "metadata": {},
   "outputs": [
    {
     "data": {
      "text/plain": [
       "3003.0"
      ]
     },
     "execution_count": 73,
     "metadata": {},
     "output_type": "execute_result"
    }
   ],
   "source": [
    "nck(8+7-1, 7-1)"
   ]
  },
  {
   "cell_type": "code",
   "execution_count": 74,
   "metadata": {},
   "outputs": [
    {
     "name": "stdout",
     "output_type": "stream",
     "text": [
      "0 0 0 9\n",
      "0 0 1 8\n",
      "0 0 2 7\n",
      "0 0 3 6\n",
      "0 0 4 5\n",
      "0 0 5 4\n",
      "0 0 6 3\n",
      "0 0 7 2\n",
      "0 0 8 1\n",
      "0 0 9 0\n",
      "0 1 0 8\n",
      "0 1 1 7\n",
      "0 1 2 6\n",
      "0 1 3 5\n",
      "0 1 4 4\n",
      "0 1 5 3\n",
      "0 1 6 2\n",
      "0 1 7 1\n",
      "0 1 8 0\n",
      "0 2 0 7\n",
      "0 2 1 6\n",
      "0 2 2 5\n",
      "0 2 3 4\n",
      "0 2 4 3\n",
      "0 2 5 2\n",
      "0 2 6 1\n",
      "0 2 7 0\n",
      "0 3 0 6\n",
      "0 3 1 5\n",
      "0 3 2 4\n",
      "0 3 3 3\n",
      "0 3 4 2\n",
      "0 3 5 1\n",
      "0 3 6 0\n",
      "0 4 0 5\n",
      "0 4 1 4\n",
      "0 4 2 3\n",
      "0 4 3 2\n",
      "0 4 4 1\n",
      "0 4 5 0\n",
      "0 5 0 4\n",
      "0 5 1 3\n",
      "0 5 2 2\n",
      "0 5 3 1\n",
      "0 5 4 0\n",
      "0 6 0 3\n",
      "0 6 1 2\n",
      "0 6 2 1\n",
      "0 6 3 0\n",
      "0 7 0 2\n",
      "0 7 1 1\n",
      "0 7 2 0\n",
      "0 8 0 1\n",
      "0 8 1 0\n",
      "0 9 0 0\n",
      "1 0 0 8\n",
      "1 0 1 7\n",
      "1 0 2 6\n",
      "1 0 3 5\n",
      "1 0 4 4\n",
      "1 0 5 3\n",
      "1 0 6 2\n",
      "1 0 7 1\n",
      "1 0 8 0\n",
      "1 1 0 7\n",
      "1 1 1 6\n",
      "1 1 2 5\n",
      "1 1 3 4\n",
      "1 1 4 3\n",
      "1 1 5 2\n",
      "1 1 6 1\n",
      "1 1 7 0\n",
      "1 2 0 6\n",
      "1 2 1 5\n",
      "1 2 2 4\n",
      "1 2 3 3\n",
      "1 2 4 2\n",
      "1 2 5 1\n",
      "1 2 6 0\n",
      "1 3 0 5\n",
      "1 3 1 4\n",
      "1 3 2 3\n",
      "1 3 3 2\n",
      "1 3 4 1\n",
      "1 3 5 0\n",
      "1 4 0 4\n",
      "1 4 1 3\n",
      "1 4 2 2\n",
      "1 4 3 1\n",
      "1 4 4 0\n",
      "1 5 0 3\n",
      "1 5 1 2\n",
      "1 5 2 1\n",
      "1 5 3 0\n",
      "1 6 0 2\n",
      "1 6 1 1\n",
      "1 6 2 0\n",
      "1 7 0 1\n",
      "1 7 1 0\n",
      "1 8 0 0\n",
      "2 0 0 7\n",
      "2 0 1 6\n",
      "2 0 2 5\n",
      "2 0 3 4\n",
      "2 0 4 3\n",
      "2 0 5 2\n",
      "2 0 6 1\n",
      "2 0 7 0\n",
      "2 1 0 6\n",
      "2 1 1 5\n",
      "2 1 2 4\n",
      "2 1 3 3\n",
      "2 1 4 2\n",
      "2 1 5 1\n",
      "2 1 6 0\n",
      "2 2 0 5\n",
      "2 2 1 4\n",
      "2 2 2 3\n",
      "2 2 3 2\n",
      "2 2 4 1\n",
      "2 2 5 0\n",
      "2 3 0 4\n",
      "2 3 1 3\n",
      "2 3 2 2\n",
      "2 3 3 1\n",
      "2 3 4 0\n",
      "2 4 0 3\n",
      "2 4 1 2\n",
      "2 4 2 1\n",
      "2 4 3 0\n",
      "2 5 0 2\n",
      "2 5 1 1\n",
      "2 5 2 0\n",
      "2 6 0 1\n",
      "2 6 1 0\n",
      "2 7 0 0\n",
      "3 0 0 6\n",
      "3 0 1 5\n",
      "3 0 2 4\n",
      "3 0 3 3\n",
      "3 0 4 2\n",
      "3 0 5 1\n",
      "3 0 6 0\n",
      "3 1 0 5\n",
      "3 1 1 4\n",
      "3 1 2 3\n",
      "3 1 3 2\n",
      "3 1 4 1\n",
      "3 1 5 0\n",
      "3 2 0 4\n",
      "3 2 1 3\n",
      "3 2 2 2\n",
      "3 2 3 1\n",
      "3 2 4 0\n",
      "3 3 0 3\n",
      "3 3 1 2\n",
      "3 3 2 1\n",
      "3 3 3 0\n",
      "3 4 0 2\n",
      "3 4 1 1\n",
      "3 4 2 0\n",
      "3 5 0 1\n",
      "3 5 1 0\n",
      "3 6 0 0\n",
      "4 0 0 5\n",
      "4 0 1 4\n",
      "4 0 2 3\n",
      "4 0 3 2\n",
      "4 0 4 1\n",
      "4 0 5 0\n",
      "4 1 0 4\n",
      "4 1 1 3\n",
      "4 1 2 2\n",
      "4 1 3 1\n",
      "4 1 4 0\n",
      "4 2 0 3\n",
      "4 2 1 2\n",
      "4 2 2 1\n",
      "4 2 3 0\n",
      "4 3 0 2\n",
      "4 3 1 1\n",
      "4 3 2 0\n",
      "4 4 0 1\n",
      "4 4 1 0\n",
      "4 5 0 0\n",
      "5 0 0 4\n",
      "5 0 1 3\n",
      "5 0 2 2\n",
      "5 0 3 1\n",
      "5 0 4 0\n",
      "5 1 0 3\n",
      "5 1 1 2\n",
      "5 1 2 1\n",
      "5 1 3 0\n",
      "5 2 0 2\n",
      "5 2 1 1\n",
      "5 2 2 0\n",
      "5 3 0 1\n",
      "5 3 1 0\n",
      "5 4 0 0\n",
      "6 0 0 3\n",
      "6 0 1 2\n",
      "6 0 2 1\n",
      "6 0 3 0\n",
      "6 1 0 2\n",
      "6 1 1 1\n",
      "6 1 2 0\n",
      "6 2 0 1\n",
      "6 2 1 0\n",
      "6 3 0 0\n",
      "7 0 0 2\n",
      "7 0 1 1\n",
      "7 0 2 0\n",
      "7 1 0 1\n",
      "7 1 1 0\n",
      "7 2 0 0\n",
      "8 0 0 1\n",
      "8 0 1 0\n",
      "8 1 0 0\n",
      "9 0 0 0\n",
      "220\n"
     ]
    }
   ],
   "source": [
    "c = 0\n",
    "for i in range(10):\n",
    "    for j in range(10):\n",
    "        for k in range(10):\n",
    "            for l in range(10):\n",
    "                if i + j + k + l == 9:\n",
    "                    print(i, j, k, l)\n",
    "                    c += 1\n",
    "print(c)"
   ]
  },
  {
   "cell_type": "code",
   "execution_count": 75,
   "metadata": {},
   "outputs": [
    {
     "name": "stdout",
     "output_type": "stream",
     "text": [
      "123\n",
      "124\n",
      "125\n",
      "126\n",
      "127\n",
      "128\n",
      "132\n",
      "134\n",
      "135\n",
      "136\n",
      "137\n",
      "138\n",
      "142\n",
      "143\n",
      "145\n",
      "146\n",
      "147\n",
      "148\n",
      "152\n",
      "153\n",
      "154\n",
      "156\n",
      "157\n",
      "158\n",
      "162\n",
      "163\n",
      "164\n",
      "165\n",
      "167\n",
      "168\n",
      "172\n",
      "173\n",
      "174\n",
      "175\n",
      "176\n",
      "178\n",
      "182\n",
      "183\n",
      "184\n",
      "185\n",
      "186\n",
      "187\n",
      "213\n",
      "214\n",
      "215\n",
      "216\n",
      "217\n",
      "218\n",
      "231\n",
      "234\n",
      "235\n",
      "236\n",
      "237\n",
      "238\n",
      "241\n",
      "243\n",
      "245\n",
      "246\n",
      "247\n",
      "248\n",
      "251\n",
      "253\n",
      "254\n",
      "256\n",
      "257\n",
      "258\n",
      "261\n",
      "263\n",
      "264\n",
      "265\n",
      "267\n",
      "268\n",
      "271\n",
      "273\n",
      "274\n",
      "275\n",
      "276\n",
      "278\n",
      "281\n",
      "283\n",
      "284\n",
      "285\n",
      "286\n",
      "287\n",
      "312\n",
      "314\n",
      "315\n",
      "316\n",
      "317\n",
      "318\n",
      "321\n",
      "324\n",
      "325\n",
      "326\n",
      "327\n",
      "328\n",
      "341\n",
      "342\n",
      "345\n",
      "346\n",
      "347\n",
      "348\n",
      "351\n",
      "352\n",
      "354\n",
      "356\n",
      "357\n",
      "358\n",
      "361\n",
      "362\n",
      "364\n",
      "365\n",
      "367\n",
      "368\n",
      "371\n",
      "372\n",
      "374\n",
      "375\n",
      "376\n",
      "378\n",
      "381\n",
      "382\n",
      "384\n",
      "385\n",
      "386\n",
      "387\n",
      "412\n",
      "413\n",
      "415\n",
      "416\n",
      "417\n",
      "418\n",
      "421\n",
      "423\n",
      "425\n",
      "426\n",
      "427\n",
      "428\n",
      "431\n",
      "432\n",
      "435\n",
      "436\n",
      "437\n",
      "438\n",
      "451\n",
      "452\n",
      "453\n",
      "456\n",
      "457\n",
      "458\n",
      "461\n",
      "462\n",
      "463\n",
      "465\n",
      "467\n",
      "468\n",
      "471\n",
      "472\n",
      "473\n",
      "475\n",
      "476\n",
      "478\n",
      "481\n",
      "482\n",
      "483\n",
      "485\n",
      "486\n",
      "487\n",
      "512\n",
      "513\n",
      "514\n",
      "516\n",
      "517\n",
      "518\n",
      "521\n",
      "523\n",
      "524\n",
      "526\n",
      "527\n",
      "528\n",
      "531\n",
      "532\n",
      "534\n",
      "536\n",
      "537\n",
      "538\n",
      "541\n",
      "542\n",
      "543\n",
      "546\n",
      "547\n",
      "548\n",
      "561\n",
      "562\n",
      "563\n",
      "564\n",
      "567\n",
      "568\n",
      "571\n",
      "572\n",
      "573\n",
      "574\n",
      "576\n",
      "578\n",
      "581\n",
      "582\n",
      "583\n",
      "584\n",
      "586\n",
      "587\n",
      "612\n",
      "613\n",
      "614\n",
      "615\n",
      "617\n",
      "618\n",
      "621\n",
      "623\n",
      "624\n",
      "625\n",
      "627\n",
      "628\n",
      "631\n",
      "632\n",
      "634\n",
      "635\n",
      "637\n",
      "638\n",
      "641\n",
      "642\n",
      "643\n",
      "645\n",
      "647\n",
      "648\n",
      "651\n",
      "652\n",
      "653\n",
      "654\n",
      "657\n",
      "658\n",
      "671\n",
      "672\n",
      "673\n",
      "674\n",
      "675\n",
      "678\n",
      "681\n",
      "682\n",
      "683\n",
      "684\n",
      "685\n",
      "687\n",
      "712\n",
      "713\n",
      "714\n",
      "715\n",
      "716\n",
      "718\n",
      "721\n",
      "723\n",
      "724\n",
      "725\n",
      "726\n",
      "728\n",
      "731\n",
      "732\n",
      "734\n",
      "735\n",
      "736\n",
      "738\n",
      "741\n",
      "742\n",
      "743\n",
      "745\n",
      "746\n",
      "748\n",
      "751\n",
      "752\n",
      "753\n",
      "754\n",
      "756\n",
      "758\n",
      "761\n",
      "762\n",
      "763\n",
      "764\n",
      "765\n",
      "768\n",
      "781\n",
      "782\n",
      "783\n",
      "784\n",
      "785\n",
      "786\n",
      "812\n",
      "813\n",
      "814\n",
      "815\n",
      "816\n",
      "817\n",
      "821\n",
      "823\n",
      "824\n",
      "825\n",
      "826\n",
      "827\n",
      "831\n",
      "832\n",
      "834\n",
      "835\n",
      "836\n",
      "837\n",
      "841\n",
      "842\n",
      "843\n",
      "845\n",
      "846\n",
      "847\n",
      "851\n",
      "852\n",
      "853\n",
      "854\n",
      "856\n",
      "857\n",
      "861\n",
      "862\n",
      "863\n",
      "864\n",
      "865\n",
      "867\n",
      "871\n",
      "872\n",
      "873\n",
      "874\n",
      "875\n",
      "876\n",
      "336\n"
     ]
    }
   ],
   "source": [
    "from itertools import permutations\n",
    "c = 0\n",
    "for a in permutations(\"12345678\", 3):\n",
    "    print(\"\".join(a))\n",
    "    c += 1\n",
    "print(c)"
   ]
  },
  {
   "cell_type": "code",
   "execution_count": 76,
   "metadata": {},
   "outputs": [
    {
     "data": {
      "text/plain": [
       "126.0"
      ]
     },
     "execution_count": 76,
     "metadata": {},
     "output_type": "execute_result"
    }
   ],
   "source": [
    "nck(9, 4)"
   ]
  },
  {
   "cell_type": "code",
   "execution_count": 77,
   "metadata": {},
   "outputs": [
    {
     "data": {
      "text/plain": [
       "262144"
      ]
     },
     "execution_count": 77,
     "metadata": {},
     "output_type": "execute_result"
    }
   ],
   "source": [
    "4 ** 9"
   ]
  },
  {
   "cell_type": "code",
   "execution_count": 78,
   "metadata": {},
   "outputs": [
    {
     "data": {
      "text/plain": [
       "220"
      ]
     },
     "execution_count": 78,
     "metadata": {},
     "output_type": "execute_result"
    }
   ],
   "source": [
    "c = 0\n",
    "for i in range(1, 10001):\n",
    "    s = list(str(i))\n",
    "    n = sum([int(i) for i in s])\n",
    "    if n == 9:\n",
    "        c += 1\n",
    "c\n",
    "    "
   ]
  },
  {
   "cell_type": "code",
   "execution_count": 13,
   "metadata": {},
   "outputs": [
    {
     "name": "stdout",
     "output_type": "stream",
     "text": [
      "(0, 0, 0, 0, 0)\n",
      "(0, 0, 0, 0, 1)\n",
      "(0, 0, 0, 1, 0)\n",
      "(0, 0, 0, 1, 1)\n",
      "(0, 0, 1, 0, 0)\n",
      "(0, 0, 1, 0, 1)\n",
      "(0, 0, 1, 1, 0)\n",
      "(0, 0, 1, 1, 1)\n",
      "(0, 1, 0, 0, 0)\n",
      "(0, 1, 0, 0, 1)\n",
      "(0, 1, 0, 1, 0)\n",
      "(0, 1, 0, 1, 1)\n",
      "(0, 1, 1, 0, 0)\n",
      "(0, 1, 1, 0, 1)\n",
      "(0, 1, 1, 1, 0)\n",
      "(0, 1, 1, 1, 1)\n",
      "(1, 0, 0, 0, 0)\n",
      "(1, 0, 0, 0, 1)\n",
      "(1, 0, 0, 1, 0)\n",
      "(1, 0, 0, 1, 1)\n",
      "(1, 0, 1, 0, 0)\n",
      "(1, 0, 1, 0, 1)\n",
      "(1, 0, 1, 1, 0)\n",
      "(1, 0, 1, 1, 1)\n",
      "(1, 1, 0, 0, 0)\n",
      "(1, 1, 0, 0, 1)\n",
      "(1, 1, 0, 1, 0)\n",
      "(1, 1, 0, 1, 1)\n",
      "(1, 1, 1, 0, 0)\n",
      "(1, 1, 1, 0, 1)\n",
      "(1, 1, 1, 1, 0)\n",
      "(1, 1, 1, 1, 1)\n"
     ]
    },
    {
     "data": {
      "text/plain": [
       "32"
      ]
     },
     "execution_count": 13,
     "metadata": {},
     "output_type": "execute_result"
    }
   ],
   "source": [
    "import itertools as it\n",
    "c = 0\n",
    "for d in it.product(range(2), repeat = 5):\n",
    "    #if sum(d) == 9:\n",
    "    print(d)\n",
    "    c += 1\n",
    "c"
   ]
  },
  {
   "cell_type": "code",
   "execution_count": 80,
   "metadata": {},
   "outputs": [
    {
     "data": {
      "text/plain": [
       "220.0"
      ]
     },
     "execution_count": 80,
     "metadata": {},
     "output_type": "execute_result"
    }
   ],
   "source": [
    "nck(12, 3)"
   ]
  },
  {
   "cell_type": "code",
   "execution_count": 81,
   "metadata": {},
   "outputs": [
    {
     "name": "stdout",
     "output_type": "stream",
     "text": [
      "(0, 0, 0, 0)\n",
      "(1, 0, 0, 0)\n",
      "(1, 1, 0, 0)\n",
      "(1, 1, 1, 0)\n",
      "(1, 1, 1, 1)\n",
      "(2, 0, 0, 0)\n",
      "(2, 1, 0, 0)\n",
      "(2, 1, 1, 0)\n",
      "(2, 1, 1, 1)\n",
      "(2, 2, 0, 0)\n",
      "(2, 2, 1, 0)\n",
      "(2, 2, 1, 1)\n",
      "(2, 2, 2, 0)\n",
      "(2, 2, 2, 1)\n",
      "(2, 2, 2, 2)\n",
      "(3, 0, 0, 0)\n",
      "(3, 1, 0, 0)\n",
      "(3, 1, 1, 0)\n",
      "(3, 1, 1, 1)\n",
      "(3, 2, 0, 0)\n",
      "(3, 2, 1, 0)\n",
      "(3, 2, 1, 1)\n",
      "(3, 2, 2, 0)\n",
      "(3, 2, 2, 1)\n",
      "(3, 2, 2, 2)\n",
      "(3, 3, 0, 0)\n",
      "(3, 3, 1, 0)\n",
      "(3, 3, 1, 1)\n",
      "(3, 3, 2, 0)\n",
      "(3, 3, 2, 1)\n",
      "(3, 3, 2, 2)\n",
      "(3, 3, 3, 0)\n",
      "(3, 3, 3, 1)\n",
      "(3, 3, 3, 2)\n",
      "(3, 3, 3, 3)\n",
      "(4, 0, 0, 0)\n",
      "(4, 1, 0, 0)\n",
      "(4, 1, 1, 0)\n",
      "(4, 1, 1, 1)\n",
      "(4, 2, 0, 0)\n",
      "(4, 2, 1, 0)\n",
      "(4, 2, 1, 1)\n",
      "(4, 2, 2, 0)\n",
      "(4, 2, 2, 1)\n",
      "(4, 2, 2, 2)\n",
      "(4, 3, 0, 0)\n",
      "(4, 3, 1, 0)\n",
      "(4, 3, 1, 1)\n",
      "(4, 3, 2, 0)\n",
      "(4, 3, 2, 1)\n",
      "(4, 3, 2, 2)\n",
      "(4, 3, 3, 0)\n",
      "(4, 3, 3, 1)\n",
      "(4, 3, 3, 2)\n",
      "(4, 3, 3, 3)\n",
      "(4, 4, 0, 0)\n",
      "(4, 4, 1, 0)\n",
      "(4, 4, 1, 1)\n",
      "(4, 4, 2, 0)\n",
      "(4, 4, 2, 1)\n",
      "(4, 4, 2, 2)\n",
      "(4, 4, 3, 0)\n",
      "(4, 4, 3, 1)\n",
      "(4, 4, 3, 2)\n",
      "(4, 4, 3, 3)\n",
      "(4, 4, 4, 0)\n",
      "(4, 4, 4, 1)\n",
      "(4, 4, 4, 2)\n",
      "(4, 4, 4, 3)\n",
      "(4, 4, 4, 4)\n",
      "(5, 0, 0, 0)\n",
      "(5, 1, 0, 0)\n",
      "(5, 1, 1, 0)\n",
      "(5, 1, 1, 1)\n",
      "(5, 2, 0, 0)\n",
      "(5, 2, 1, 0)\n",
      "(5, 2, 1, 1)\n",
      "(5, 2, 2, 0)\n",
      "(5, 2, 2, 1)\n",
      "(5, 2, 2, 2)\n",
      "(5, 3, 0, 0)\n",
      "(5, 3, 1, 0)\n",
      "(5, 3, 1, 1)\n",
      "(5, 3, 2, 0)\n",
      "(5, 3, 2, 1)\n",
      "(5, 3, 2, 2)\n",
      "(5, 3, 3, 0)\n",
      "(5, 3, 3, 1)\n",
      "(5, 3, 3, 2)\n",
      "(5, 3, 3, 3)\n",
      "(5, 4, 0, 0)\n",
      "(5, 4, 1, 0)\n",
      "(5, 4, 1, 1)\n",
      "(5, 4, 2, 0)\n",
      "(5, 4, 2, 1)\n",
      "(5, 4, 2, 2)\n",
      "(5, 4, 3, 0)\n",
      "(5, 4, 3, 1)\n",
      "(5, 4, 3, 2)\n",
      "(5, 4, 3, 3)\n",
      "(5, 4, 4, 0)\n",
      "(5, 4, 4, 1)\n",
      "(5, 4, 4, 2)\n",
      "(5, 4, 4, 3)\n",
      "(5, 4, 4, 4)\n",
      "(5, 5, 0, 0)\n",
      "(5, 5, 1, 0)\n",
      "(5, 5, 1, 1)\n",
      "(5, 5, 2, 0)\n",
      "(5, 5, 2, 1)\n",
      "(5, 5, 2, 2)\n",
      "(5, 5, 3, 0)\n",
      "(5, 5, 3, 1)\n",
      "(5, 5, 3, 2)\n",
      "(5, 5, 3, 3)\n",
      "(5, 5, 4, 0)\n",
      "(5, 5, 4, 1)\n",
      "(5, 5, 4, 2)\n",
      "(5, 5, 4, 3)\n",
      "(5, 5, 4, 4)\n",
      "(5, 5, 5, 0)\n",
      "(5, 5, 5, 1)\n",
      "(5, 5, 5, 2)\n",
      "(5, 5, 5, 3)\n",
      "(5, 5, 5, 4)\n",
      "(5, 5, 5, 5)\n",
      "(6, 0, 0, 0)\n",
      "(6, 1, 0, 0)\n",
      "(6, 1, 1, 0)\n",
      "(6, 1, 1, 1)\n",
      "(6, 2, 0, 0)\n",
      "(6, 2, 1, 0)\n",
      "(6, 2, 1, 1)\n",
      "(6, 2, 2, 0)\n",
      "(6, 2, 2, 1)\n",
      "(6, 2, 2, 2)\n",
      "(6, 3, 0, 0)\n",
      "(6, 3, 1, 0)\n",
      "(6, 3, 1, 1)\n",
      "(6, 3, 2, 0)\n",
      "(6, 3, 2, 1)\n",
      "(6, 3, 2, 2)\n",
      "(6, 3, 3, 0)\n",
      "(6, 3, 3, 1)\n",
      "(6, 3, 3, 2)\n",
      "(6, 3, 3, 3)\n",
      "(6, 4, 0, 0)\n",
      "(6, 4, 1, 0)\n",
      "(6, 4, 1, 1)\n",
      "(6, 4, 2, 0)\n",
      "(6, 4, 2, 1)\n",
      "(6, 4, 2, 2)\n",
      "(6, 4, 3, 0)\n",
      "(6, 4, 3, 1)\n",
      "(6, 4, 3, 2)\n",
      "(6, 4, 3, 3)\n",
      "(6, 4, 4, 0)\n",
      "(6, 4, 4, 1)\n",
      "(6, 4, 4, 2)\n",
      "(6, 4, 4, 3)\n",
      "(6, 4, 4, 4)\n",
      "(6, 5, 0, 0)\n",
      "(6, 5, 1, 0)\n",
      "(6, 5, 1, 1)\n",
      "(6, 5, 2, 0)\n",
      "(6, 5, 2, 1)\n",
      "(6, 5, 2, 2)\n",
      "(6, 5, 3, 0)\n",
      "(6, 5, 3, 1)\n",
      "(6, 5, 3, 2)\n",
      "(6, 5, 3, 3)\n",
      "(6, 5, 4, 0)\n",
      "(6, 5, 4, 1)\n",
      "(6, 5, 4, 2)\n",
      "(6, 5, 4, 3)\n",
      "(6, 5, 4, 4)\n",
      "(6, 5, 5, 0)\n",
      "(6, 5, 5, 1)\n",
      "(6, 5, 5, 2)\n",
      "(6, 5, 5, 3)\n",
      "(6, 5, 5, 4)\n",
      "(6, 5, 5, 5)\n",
      "(6, 6, 0, 0)\n",
      "(6, 6, 1, 0)\n",
      "(6, 6, 1, 1)\n",
      "(6, 6, 2, 0)\n",
      "(6, 6, 2, 1)\n",
      "(6, 6, 2, 2)\n",
      "(6, 6, 3, 0)\n",
      "(6, 6, 3, 1)\n",
      "(6, 6, 3, 2)\n",
      "(6, 6, 3, 3)\n",
      "(6, 6, 4, 0)\n",
      "(6, 6, 4, 1)\n",
      "(6, 6, 4, 2)\n",
      "(6, 6, 4, 3)\n",
      "(6, 6, 4, 4)\n",
      "(6, 6, 5, 0)\n",
      "(6, 6, 5, 1)\n",
      "(6, 6, 5, 2)\n",
      "(6, 6, 5, 3)\n",
      "(6, 6, 5, 4)\n",
      "(6, 6, 5, 5)\n",
      "(6, 6, 6, 0)\n",
      "(6, 6, 6, 1)\n",
      "(6, 6, 6, 2)\n",
      "(6, 6, 6, 3)\n",
      "(6, 6, 6, 4)\n",
      "(6, 6, 6, 5)\n",
      "(6, 6, 6, 6)\n",
      "(7, 0, 0, 0)\n",
      "(7, 1, 0, 0)\n",
      "(7, 1, 1, 0)\n",
      "(7, 1, 1, 1)\n",
      "(7, 2, 0, 0)\n",
      "(7, 2, 1, 0)\n",
      "(7, 2, 1, 1)\n",
      "(7, 2, 2, 0)\n",
      "(7, 2, 2, 1)\n",
      "(7, 2, 2, 2)\n",
      "(7, 3, 0, 0)\n",
      "(7, 3, 1, 0)\n",
      "(7, 3, 1, 1)\n",
      "(7, 3, 2, 0)\n",
      "(7, 3, 2, 1)\n",
      "(7, 3, 2, 2)\n",
      "(7, 3, 3, 0)\n",
      "(7, 3, 3, 1)\n",
      "(7, 3, 3, 2)\n",
      "(7, 3, 3, 3)\n",
      "(7, 4, 0, 0)\n",
      "(7, 4, 1, 0)\n",
      "(7, 4, 1, 1)\n",
      "(7, 4, 2, 0)\n",
      "(7, 4, 2, 1)\n",
      "(7, 4, 2, 2)\n",
      "(7, 4, 3, 0)\n",
      "(7, 4, 3, 1)\n",
      "(7, 4, 3, 2)\n",
      "(7, 4, 3, 3)\n",
      "(7, 4, 4, 0)\n",
      "(7, 4, 4, 1)\n",
      "(7, 4, 4, 2)\n",
      "(7, 4, 4, 3)\n",
      "(7, 4, 4, 4)\n",
      "(7, 5, 0, 0)\n",
      "(7, 5, 1, 0)\n",
      "(7, 5, 1, 1)\n",
      "(7, 5, 2, 0)\n",
      "(7, 5, 2, 1)\n",
      "(7, 5, 2, 2)\n",
      "(7, 5, 3, 0)\n",
      "(7, 5, 3, 1)\n",
      "(7, 5, 3, 2)\n",
      "(7, 5, 3, 3)\n",
      "(7, 5, 4, 0)\n",
      "(7, 5, 4, 1)\n",
      "(7, 5, 4, 2)\n",
      "(7, 5, 4, 3)\n",
      "(7, 5, 4, 4)\n",
      "(7, 5, 5, 0)\n",
      "(7, 5, 5, 1)\n",
      "(7, 5, 5, 2)\n",
      "(7, 5, 5, 3)\n",
      "(7, 5, 5, 4)\n",
      "(7, 5, 5, 5)\n",
      "(7, 6, 0, 0)\n",
      "(7, 6, 1, 0)\n",
      "(7, 6, 1, 1)\n",
      "(7, 6, 2, 0)\n",
      "(7, 6, 2, 1)\n",
      "(7, 6, 2, 2)\n",
      "(7, 6, 3, 0)\n",
      "(7, 6, 3, 1)\n",
      "(7, 6, 3, 2)\n",
      "(7, 6, 3, 3)\n",
      "(7, 6, 4, 0)\n",
      "(7, 6, 4, 1)\n",
      "(7, 6, 4, 2)\n",
      "(7, 6, 4, 3)\n",
      "(7, 6, 4, 4)\n",
      "(7, 6, 5, 0)\n",
      "(7, 6, 5, 1)\n",
      "(7, 6, 5, 2)\n",
      "(7, 6, 5, 3)\n",
      "(7, 6, 5, 4)\n",
      "(7, 6, 5, 5)\n",
      "(7, 6, 6, 0)\n",
      "(7, 6, 6, 1)\n",
      "(7, 6, 6, 2)\n",
      "(7, 6, 6, 3)\n",
      "(7, 6, 6, 4)\n",
      "(7, 6, 6, 5)\n",
      "(7, 6, 6, 6)\n",
      "(7, 7, 0, 0)\n",
      "(7, 7, 1, 0)\n",
      "(7, 7, 1, 1)\n",
      "(7, 7, 2, 0)\n",
      "(7, 7, 2, 1)\n",
      "(7, 7, 2, 2)\n",
      "(7, 7, 3, 0)\n",
      "(7, 7, 3, 1)\n",
      "(7, 7, 3, 2)\n",
      "(7, 7, 3, 3)\n",
      "(7, 7, 4, 0)\n",
      "(7, 7, 4, 1)\n",
      "(7, 7, 4, 2)\n",
      "(7, 7, 4, 3)\n",
      "(7, 7, 4, 4)\n",
      "(7, 7, 5, 0)\n",
      "(7, 7, 5, 1)\n",
      "(7, 7, 5, 2)\n",
      "(7, 7, 5, 3)\n",
      "(7, 7, 5, 4)\n",
      "(7, 7, 5, 5)\n",
      "(7, 7, 6, 0)\n",
      "(7, 7, 6, 1)\n",
      "(7, 7, 6, 2)\n",
      "(7, 7, 6, 3)\n",
      "(7, 7, 6, 4)\n",
      "(7, 7, 6, 5)\n",
      "(7, 7, 6, 6)\n",
      "(7, 7, 7, 0)\n",
      "(7, 7, 7, 1)\n",
      "(7, 7, 7, 2)\n",
      "(7, 7, 7, 3)\n",
      "(7, 7, 7, 4)\n",
      "(7, 7, 7, 5)\n",
      "(7, 7, 7, 6)\n",
      "(7, 7, 7, 7)\n",
      "(8, 0, 0, 0)\n",
      "(8, 1, 0, 0)\n",
      "(8, 1, 1, 0)\n",
      "(8, 1, 1, 1)\n",
      "(8, 2, 0, 0)\n",
      "(8, 2, 1, 0)\n",
      "(8, 2, 1, 1)\n",
      "(8, 2, 2, 0)\n",
      "(8, 2, 2, 1)\n",
      "(8, 2, 2, 2)\n",
      "(8, 3, 0, 0)\n",
      "(8, 3, 1, 0)\n",
      "(8, 3, 1, 1)\n",
      "(8, 3, 2, 0)\n",
      "(8, 3, 2, 1)\n",
      "(8, 3, 2, 2)\n",
      "(8, 3, 3, 0)\n",
      "(8, 3, 3, 1)\n",
      "(8, 3, 3, 2)\n",
      "(8, 3, 3, 3)\n",
      "(8, 4, 0, 0)\n",
      "(8, 4, 1, 0)\n",
      "(8, 4, 1, 1)\n",
      "(8, 4, 2, 0)\n",
      "(8, 4, 2, 1)\n",
      "(8, 4, 2, 2)\n",
      "(8, 4, 3, 0)\n",
      "(8, 4, 3, 1)\n",
      "(8, 4, 3, 2)\n",
      "(8, 4, 3, 3)\n",
      "(8, 4, 4, 0)\n",
      "(8, 4, 4, 1)\n",
      "(8, 4, 4, 2)\n",
      "(8, 4, 4, 3)\n",
      "(8, 4, 4, 4)\n",
      "(8, 5, 0, 0)\n",
      "(8, 5, 1, 0)\n",
      "(8, 5, 1, 1)\n",
      "(8, 5, 2, 0)\n",
      "(8, 5, 2, 1)\n",
      "(8, 5, 2, 2)\n",
      "(8, 5, 3, 0)\n",
      "(8, 5, 3, 1)\n",
      "(8, 5, 3, 2)\n",
      "(8, 5, 3, 3)\n",
      "(8, 5, 4, 0)\n",
      "(8, 5, 4, 1)\n",
      "(8, 5, 4, 2)\n",
      "(8, 5, 4, 3)\n",
      "(8, 5, 4, 4)\n",
      "(8, 5, 5, 0)\n",
      "(8, 5, 5, 1)\n",
      "(8, 5, 5, 2)\n",
      "(8, 5, 5, 3)\n",
      "(8, 5, 5, 4)\n",
      "(8, 5, 5, 5)\n",
      "(8, 6, 0, 0)\n",
      "(8, 6, 1, 0)\n",
      "(8, 6, 1, 1)\n",
      "(8, 6, 2, 0)\n",
      "(8, 6, 2, 1)\n",
      "(8, 6, 2, 2)\n",
      "(8, 6, 3, 0)\n",
      "(8, 6, 3, 1)\n",
      "(8, 6, 3, 2)\n",
      "(8, 6, 3, 3)\n",
      "(8, 6, 4, 0)\n",
      "(8, 6, 4, 1)\n",
      "(8, 6, 4, 2)\n",
      "(8, 6, 4, 3)\n",
      "(8, 6, 4, 4)\n",
      "(8, 6, 5, 0)\n",
      "(8, 6, 5, 1)\n",
      "(8, 6, 5, 2)\n",
      "(8, 6, 5, 3)\n",
      "(8, 6, 5, 4)\n",
      "(8, 6, 5, 5)\n",
      "(8, 6, 6, 0)\n",
      "(8, 6, 6, 1)\n",
      "(8, 6, 6, 2)\n",
      "(8, 6, 6, 3)\n",
      "(8, 6, 6, 4)\n",
      "(8, 6, 6, 5)\n",
      "(8, 6, 6, 6)\n",
      "(8, 7, 0, 0)\n",
      "(8, 7, 1, 0)\n",
      "(8, 7, 1, 1)\n",
      "(8, 7, 2, 0)\n",
      "(8, 7, 2, 1)\n",
      "(8, 7, 2, 2)\n",
      "(8, 7, 3, 0)\n",
      "(8, 7, 3, 1)\n",
      "(8, 7, 3, 2)\n",
      "(8, 7, 3, 3)\n",
      "(8, 7, 4, 0)\n",
      "(8, 7, 4, 1)\n",
      "(8, 7, 4, 2)\n",
      "(8, 7, 4, 3)\n",
      "(8, 7, 4, 4)\n",
      "(8, 7, 5, 0)\n",
      "(8, 7, 5, 1)\n",
      "(8, 7, 5, 2)\n",
      "(8, 7, 5, 3)\n",
      "(8, 7, 5, 4)\n",
      "(8, 7, 5, 5)\n",
      "(8, 7, 6, 0)\n",
      "(8, 7, 6, 1)\n",
      "(8, 7, 6, 2)\n",
      "(8, 7, 6, 3)\n",
      "(8, 7, 6, 4)\n",
      "(8, 7, 6, 5)\n",
      "(8, 7, 6, 6)\n",
      "(8, 7, 7, 0)\n",
      "(8, 7, 7, 1)\n",
      "(8, 7, 7, 2)\n",
      "(8, 7, 7, 3)\n",
      "(8, 7, 7, 4)\n",
      "(8, 7, 7, 5)\n",
      "(8, 7, 7, 6)\n",
      "(8, 7, 7, 7)\n",
      "(8, 8, 0, 0)\n",
      "(8, 8, 1, 0)\n",
      "(8, 8, 1, 1)\n",
      "(8, 8, 2, 0)\n",
      "(8, 8, 2, 1)\n",
      "(8, 8, 2, 2)\n",
      "(8, 8, 3, 0)\n",
      "(8, 8, 3, 1)\n",
      "(8, 8, 3, 2)\n",
      "(8, 8, 3, 3)\n",
      "(8, 8, 4, 0)\n",
      "(8, 8, 4, 1)\n",
      "(8, 8, 4, 2)\n",
      "(8, 8, 4, 3)\n",
      "(8, 8, 4, 4)\n",
      "(8, 8, 5, 0)\n",
      "(8, 8, 5, 1)\n",
      "(8, 8, 5, 2)\n",
      "(8, 8, 5, 3)\n",
      "(8, 8, 5, 4)\n",
      "(8, 8, 5, 5)\n",
      "(8, 8, 6, 0)\n",
      "(8, 8, 6, 1)\n",
      "(8, 8, 6, 2)\n",
      "(8, 8, 6, 3)\n",
      "(8, 8, 6, 4)\n",
      "(8, 8, 6, 5)\n",
      "(8, 8, 6, 6)\n",
      "(8, 8, 7, 0)\n",
      "(8, 8, 7, 1)\n",
      "(8, 8, 7, 2)\n",
      "(8, 8, 7, 3)\n",
      "(8, 8, 7, 4)\n",
      "(8, 8, 7, 5)\n",
      "(8, 8, 7, 6)\n",
      "(8, 8, 7, 7)\n",
      "(8, 8, 8, 0)\n",
      "(8, 8, 8, 1)\n",
      "(8, 8, 8, 2)\n",
      "(8, 8, 8, 3)\n",
      "(8, 8, 8, 4)\n",
      "(8, 8, 8, 5)\n",
      "(8, 8, 8, 6)\n",
      "(8, 8, 8, 7)\n",
      "(8, 8, 8, 8)\n",
      "(9, 0, 0, 0)\n",
      "(9, 1, 0, 0)\n",
      "(9, 1, 1, 0)\n",
      "(9, 1, 1, 1)\n",
      "(9, 2, 0, 0)\n",
      "(9, 2, 1, 0)\n",
      "(9, 2, 1, 1)\n",
      "(9, 2, 2, 0)\n",
      "(9, 2, 2, 1)\n",
      "(9, 2, 2, 2)\n",
      "(9, 3, 0, 0)\n",
      "(9, 3, 1, 0)\n",
      "(9, 3, 1, 1)\n",
      "(9, 3, 2, 0)\n",
      "(9, 3, 2, 1)\n",
      "(9, 3, 2, 2)\n",
      "(9, 3, 3, 0)\n",
      "(9, 3, 3, 1)\n",
      "(9, 3, 3, 2)\n",
      "(9, 3, 3, 3)\n",
      "(9, 4, 0, 0)\n",
      "(9, 4, 1, 0)\n",
      "(9, 4, 1, 1)\n",
      "(9, 4, 2, 0)\n",
      "(9, 4, 2, 1)\n",
      "(9, 4, 2, 2)\n",
      "(9, 4, 3, 0)\n",
      "(9, 4, 3, 1)\n",
      "(9, 4, 3, 2)\n",
      "(9, 4, 3, 3)\n",
      "(9, 4, 4, 0)\n",
      "(9, 4, 4, 1)\n",
      "(9, 4, 4, 2)\n",
      "(9, 4, 4, 3)\n",
      "(9, 4, 4, 4)\n",
      "(9, 5, 0, 0)\n",
      "(9, 5, 1, 0)\n",
      "(9, 5, 1, 1)\n",
      "(9, 5, 2, 0)\n",
      "(9, 5, 2, 1)\n",
      "(9, 5, 2, 2)\n",
      "(9, 5, 3, 0)\n",
      "(9, 5, 3, 1)\n",
      "(9, 5, 3, 2)\n",
      "(9, 5, 3, 3)\n",
      "(9, 5, 4, 0)\n",
      "(9, 5, 4, 1)\n",
      "(9, 5, 4, 2)\n",
      "(9, 5, 4, 3)\n",
      "(9, 5, 4, 4)\n",
      "(9, 5, 5, 0)\n",
      "(9, 5, 5, 1)\n",
      "(9, 5, 5, 2)\n",
      "(9, 5, 5, 3)\n",
      "(9, 5, 5, 4)\n",
      "(9, 5, 5, 5)\n",
      "(9, 6, 0, 0)\n",
      "(9, 6, 1, 0)\n",
      "(9, 6, 1, 1)\n",
      "(9, 6, 2, 0)\n",
      "(9, 6, 2, 1)\n",
      "(9, 6, 2, 2)\n",
      "(9, 6, 3, 0)\n",
      "(9, 6, 3, 1)\n",
      "(9, 6, 3, 2)\n",
      "(9, 6, 3, 3)\n",
      "(9, 6, 4, 0)\n",
      "(9, 6, 4, 1)\n",
      "(9, 6, 4, 2)\n",
      "(9, 6, 4, 3)\n",
      "(9, 6, 4, 4)\n",
      "(9, 6, 5, 0)\n",
      "(9, 6, 5, 1)\n",
      "(9, 6, 5, 2)\n",
      "(9, 6, 5, 3)\n",
      "(9, 6, 5, 4)\n",
      "(9, 6, 5, 5)\n",
      "(9, 6, 6, 0)\n",
      "(9, 6, 6, 1)\n",
      "(9, 6, 6, 2)\n",
      "(9, 6, 6, 3)\n",
      "(9, 6, 6, 4)\n",
      "(9, 6, 6, 5)\n",
      "(9, 6, 6, 6)\n",
      "(9, 7, 0, 0)\n",
      "(9, 7, 1, 0)\n",
      "(9, 7, 1, 1)\n",
      "(9, 7, 2, 0)\n",
      "(9, 7, 2, 1)\n",
      "(9, 7, 2, 2)\n",
      "(9, 7, 3, 0)\n",
      "(9, 7, 3, 1)\n",
      "(9, 7, 3, 2)\n",
      "(9, 7, 3, 3)\n",
      "(9, 7, 4, 0)\n",
      "(9, 7, 4, 1)\n",
      "(9, 7, 4, 2)\n",
      "(9, 7, 4, 3)\n",
      "(9, 7, 4, 4)\n",
      "(9, 7, 5, 0)\n",
      "(9, 7, 5, 1)\n",
      "(9, 7, 5, 2)\n",
      "(9, 7, 5, 3)\n",
      "(9, 7, 5, 4)\n",
      "(9, 7, 5, 5)\n",
      "(9, 7, 6, 0)\n",
      "(9, 7, 6, 1)\n",
      "(9, 7, 6, 2)\n",
      "(9, 7, 6, 3)\n",
      "(9, 7, 6, 4)\n",
      "(9, 7, 6, 5)\n",
      "(9, 7, 6, 6)\n",
      "(9, 7, 7, 0)\n",
      "(9, 7, 7, 1)\n",
      "(9, 7, 7, 2)\n",
      "(9, 7, 7, 3)\n",
      "(9, 7, 7, 4)\n",
      "(9, 7, 7, 5)\n",
      "(9, 7, 7, 6)\n",
      "(9, 7, 7, 7)\n",
      "(9, 8, 0, 0)\n",
      "(9, 8, 1, 0)\n",
      "(9, 8, 1, 1)\n",
      "(9, 8, 2, 0)\n",
      "(9, 8, 2, 1)\n",
      "(9, 8, 2, 2)\n",
      "(9, 8, 3, 0)\n",
      "(9, 8, 3, 1)\n",
      "(9, 8, 3, 2)\n",
      "(9, 8, 3, 3)\n",
      "(9, 8, 4, 0)\n",
      "(9, 8, 4, 1)\n",
      "(9, 8, 4, 2)\n",
      "(9, 8, 4, 3)\n",
      "(9, 8, 4, 4)\n",
      "(9, 8, 5, 0)\n",
      "(9, 8, 5, 1)\n",
      "(9, 8, 5, 2)\n",
      "(9, 8, 5, 3)\n",
      "(9, 8, 5, 4)\n",
      "(9, 8, 5, 5)\n",
      "(9, 8, 6, 0)\n",
      "(9, 8, 6, 1)\n",
      "(9, 8, 6, 2)\n",
      "(9, 8, 6, 3)\n",
      "(9, 8, 6, 4)\n",
      "(9, 8, 6, 5)\n",
      "(9, 8, 6, 6)\n",
      "(9, 8, 7, 0)\n",
      "(9, 8, 7, 1)\n",
      "(9, 8, 7, 2)\n",
      "(9, 8, 7, 3)\n",
      "(9, 8, 7, 4)\n",
      "(9, 8, 7, 5)\n",
      "(9, 8, 7, 6)\n",
      "(9, 8, 7, 7)\n",
      "(9, 8, 8, 0)\n",
      "(9, 8, 8, 1)\n",
      "(9, 8, 8, 2)\n",
      "(9, 8, 8, 3)\n",
      "(9, 8, 8, 4)\n",
      "(9, 8, 8, 5)\n",
      "(9, 8, 8, 6)\n",
      "(9, 8, 8, 7)\n",
      "(9, 8, 8, 8)\n",
      "(9, 9, 0, 0)\n",
      "(9, 9, 1, 0)\n",
      "(9, 9, 1, 1)\n",
      "(9, 9, 2, 0)\n",
      "(9, 9, 2, 1)\n",
      "(9, 9, 2, 2)\n",
      "(9, 9, 3, 0)\n",
      "(9, 9, 3, 1)\n",
      "(9, 9, 3, 2)\n",
      "(9, 9, 3, 3)\n",
      "(9, 9, 4, 0)\n",
      "(9, 9, 4, 1)\n",
      "(9, 9, 4, 2)\n",
      "(9, 9, 4, 3)\n",
      "(9, 9, 4, 4)\n",
      "(9, 9, 5, 0)\n",
      "(9, 9, 5, 1)\n",
      "(9, 9, 5, 2)\n",
      "(9, 9, 5, 3)\n",
      "(9, 9, 5, 4)\n",
      "(9, 9, 5, 5)\n",
      "(9, 9, 6, 0)\n",
      "(9, 9, 6, 1)\n",
      "(9, 9, 6, 2)\n",
      "(9, 9, 6, 3)\n",
      "(9, 9, 6, 4)\n",
      "(9, 9, 6, 5)\n",
      "(9, 9, 6, 6)\n",
      "(9, 9, 7, 0)\n",
      "(9, 9, 7, 1)\n",
      "(9, 9, 7, 2)\n",
      "(9, 9, 7, 3)\n",
      "(9, 9, 7, 4)\n",
      "(9, 9, 7, 5)\n",
      "(9, 9, 7, 6)\n",
      "(9, 9, 7, 7)\n",
      "(9, 9, 8, 0)\n",
      "(9, 9, 8, 1)\n",
      "(9, 9, 8, 2)\n",
      "(9, 9, 8, 3)\n",
      "(9, 9, 8, 4)\n",
      "(9, 9, 8, 5)\n",
      "(9, 9, 8, 6)\n",
      "(9, 9, 8, 7)\n",
      "(9, 9, 8, 8)\n",
      "(9, 9, 9, 0)\n",
      "(9, 9, 9, 1)\n",
      "(9, 9, 9, 2)\n",
      "(9, 9, 9, 3)\n",
      "(9, 9, 9, 4)\n",
      "(9, 9, 9, 5)\n",
      "(9, 9, 9, 6)\n",
      "(9, 9, 9, 7)\n",
      "(9, 9, 9, 8)\n",
      "(9, 9, 9, 9)\n",
      "The total number of digits that every digit is not increasing from the previous = 715\n"
     ]
    }
   ],
   "source": [
    "c = 0\n",
    "for d in it.product(range(10), repeat = 4):\n",
    "    if d[0] >= d[1] and d[1] >= d[2] and d[2] >= d[3]:\n",
    "        print(d)\n",
    "        c += 1\n",
    "print(f'The total number of digits that every digit is not increasing from the previous = {c}')"
   ]
  },
  {
   "cell_type": "code",
   "execution_count": 82,
   "metadata": {},
   "outputs": [
    {
     "data": {
      "text/plain": [
       "715.0"
      ]
     },
     "execution_count": 82,
     "metadata": {},
     "output_type": "execute_result"
    }
   ],
   "source": [
    "nck(13, 9)"
   ]
  },
  {
   "cell_type": "code",
   "execution_count": 83,
   "metadata": {},
   "outputs": [
    {
     "data": {
      "text/plain": [
       "715"
      ]
     },
     "execution_count": 83,
     "metadata": {},
     "output_type": "execute_result"
    }
   ],
   "source": [
    "c = 0\n",
    "for d in combinations_with_replacement(\"0123456789\", 4):\n",
    "    c += 1\n",
    "    \n",
    "c"
   ]
  },
  {
   "cell_type": "code",
   "execution_count": 84,
   "metadata": {},
   "outputs": [
    {
     "data": {
      "text/plain": [
       "10395.0"
      ]
     },
     "execution_count": 84,
     "metadata": {},
     "output_type": "execute_result"
    }
   ],
   "source": [
    "nck(12, 2) * nck(10, 2) * nck(8, 2) * nck(6, 2) * nck(4, 2) * nck(2, 2) * (1/F(6))"
   ]
  },
  {
   "cell_type": "code",
   "execution_count": 85,
   "metadata": {},
   "outputs": [
    {
     "data": {
      "text/plain": [
       "10395.0"
      ]
     },
     "execution_count": 85,
     "metadata": {},
     "output_type": "execute_result"
    }
   ],
   "source": [
    "F(12)/(F(6) * 2**6)"
   ]
  },
  {
   "cell_type": "code",
   "execution_count": 86,
   "metadata": {},
   "outputs": [
    {
     "data": {
      "text/plain": [
       "56.0"
      ]
     },
     "execution_count": 86,
     "metadata": {},
     "output_type": "execute_result"
    }
   ],
   "source": [
    "nck(8, 3)"
   ]
  },
  {
   "cell_type": "code",
   "execution_count": 87,
   "metadata": {},
   "outputs": [
    {
     "data": {
      "text/plain": [
       "560.0"
      ]
     },
     "execution_count": 87,
     "metadata": {},
     "output_type": "execute_result"
    }
   ],
   "source": [
    "nck(8, 3) * nck(5, 2)"
   ]
  },
  {
   "cell_type": "code",
   "execution_count": 88,
   "metadata": {},
   "outputs": [
    {
     "data": {
      "text/plain": [
       "7059052.0"
      ]
     },
     "execution_count": 88,
     "metadata": {},
     "output_type": "execute_result"
    }
   ],
   "source": [
    "nck(44, 6)"
   ]
  },
  {
   "cell_type": "code",
   "execution_count": 89,
   "metadata": {},
   "outputs": [
    {
     "data": {
      "text/plain": [
       "15.0"
      ]
     },
     "execution_count": 89,
     "metadata": {},
     "output_type": "execute_result"
    }
   ],
   "source": [
    "nck(6, 4)"
   ]
  },
  {
   "cell_type": "code",
   "execution_count": 90,
   "metadata": {},
   "outputs": [
    {
     "data": {
      "text/plain": [
       "703.0"
      ]
     },
     "execution_count": 90,
     "metadata": {},
     "output_type": "execute_result"
    }
   ],
   "source": [
    "nck(38, 2)"
   ]
  },
  {
   "cell_type": "code",
   "execution_count": 91,
   "metadata": {},
   "outputs": [
    {
     "data": {
      "text/plain": [
       "10545"
      ]
     },
     "execution_count": 91,
     "metadata": {},
     "output_type": "execute_result"
    }
   ],
   "source": [
    "703 * 15"
   ]
  },
  {
   "cell_type": "code",
   "execution_count": null,
   "metadata": {},
   "outputs": [],
   "source": []
  }
 ],
 "metadata": {
  "kernelspec": {
   "display_name": "Python 3",
   "language": "python",
   "name": "python3"
  },
  "language_info": {
   "codemirror_mode": {
    "name": "ipython",
    "version": 3
   },
   "file_extension": ".py",
   "mimetype": "text/x-python",
   "name": "python",
   "nbconvert_exporter": "python",
   "pygments_lexer": "ipython3",
   "version": "3.6.10"
  }
 },
 "nbformat": 4,
 "nbformat_minor": 4
}
